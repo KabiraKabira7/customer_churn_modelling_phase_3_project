{
 "cells": [
  {
   "cell_type": "markdown",
   "id": "9a3838c6",
   "metadata": {},
   "source": [
    "# SyriaTel Customer Churn Prediction\n",
    "\n",
    "## 1. Business Understanding\n",
    "## 2. Data Understanding\n",
    "## 3. Data Preparation\n",
    "## 4. Modeling\n",
    "## 5. Evaluation\n",
    "## 6. Final Model and Interpretation\n",
    "## 7. Recommendations\n"
   ]
  },
  {
   "cell_type": "markdown",
   "id": "396953c7",
   "metadata": {},
   "source": [
    "  \n",
    "  ## 1. Business Understanding\n",
    "\n",
    "**Business Problem:**\n",
    "SyriaTel, a telecommunications company, is experiencing customer churn, which results in revenue loss. The goal of this project is to build a machine learning model to predict which customers are at risk of churning.\n",
    "\n",
    "**Stakeholder:**\n",
    "The business team at SyriaTel, particularly the customer retention and marketing departments.\n",
    "\n",
    "**Objective:**\n",
    "Use customer data to build a classifier that predicts churn, helping SyriaTel proactively retain customers at risk.\n",
    "\n",
    "**Success Criteria:**\n",
    "- High recall on churners: Better at catching those likely to leave.\n",
    "- Balance with precision to avoid unnecessary retention efforts.\n",
    "- Actionable recommendations based on model insights.\n"
   ]
  },
  {
   "cell_type": "markdown",
   "id": "b1527d11",
   "metadata": {},
   "source": [
    "    \n",
    "\n",
    "## 2. Data Understanding\n",
    "**importing libraries and loading data**"
   ]
  },
  {
   "cell_type": "code",
   "execution_count": 24,
   "id": "a625ca45",
   "metadata": {},
   "outputs": [
    {
     "data": {
      "application/vnd.microsoft.datawrangler.viewer.v0+json": {
       "columns": [
        {
         "name": "index",
         "rawType": "int64",
         "type": "integer"
        },
        {
         "name": "state",
         "rawType": "object",
         "type": "string"
        },
        {
         "name": "account length",
         "rawType": "int64",
         "type": "integer"
        },
        {
         "name": "area code",
         "rawType": "int64",
         "type": "integer"
        },
        {
         "name": "phone number",
         "rawType": "object",
         "type": "string"
        },
        {
         "name": "international plan",
         "rawType": "object",
         "type": "string"
        },
        {
         "name": "voice mail plan",
         "rawType": "object",
         "type": "string"
        },
        {
         "name": "number vmail messages",
         "rawType": "int64",
         "type": "integer"
        },
        {
         "name": "total day minutes",
         "rawType": "float64",
         "type": "float"
        },
        {
         "name": "total day calls",
         "rawType": "int64",
         "type": "integer"
        },
        {
         "name": "total day charge",
         "rawType": "float64",
         "type": "float"
        },
        {
         "name": "total eve minutes",
         "rawType": "float64",
         "type": "float"
        },
        {
         "name": "total eve calls",
         "rawType": "int64",
         "type": "integer"
        },
        {
         "name": "total eve charge",
         "rawType": "float64",
         "type": "float"
        },
        {
         "name": "total night minutes",
         "rawType": "float64",
         "type": "float"
        },
        {
         "name": "total night calls",
         "rawType": "int64",
         "type": "integer"
        },
        {
         "name": "total night charge",
         "rawType": "float64",
         "type": "float"
        },
        {
         "name": "total intl minutes",
         "rawType": "float64",
         "type": "float"
        },
        {
         "name": "total intl calls",
         "rawType": "int64",
         "type": "integer"
        },
        {
         "name": "total intl charge",
         "rawType": "float64",
         "type": "float"
        },
        {
         "name": "customer service calls",
         "rawType": "int64",
         "type": "integer"
        },
        {
         "name": "churn",
         "rawType": "bool",
         "type": "boolean"
        }
       ],
       "ref": "55a7f57c-8db5-4c6c-8462-00fd01e42f3c",
       "rows": [
        [
         "0",
         "KS",
         "128",
         "415",
         "382-4657",
         "no",
         "yes",
         "25",
         "265.1",
         "110",
         "45.07",
         "197.4",
         "99",
         "16.78",
         "244.7",
         "91",
         "11.01",
         "10.0",
         "3",
         "2.7",
         "1",
         "False"
        ],
        [
         "1",
         "OH",
         "107",
         "415",
         "371-7191",
         "no",
         "yes",
         "26",
         "161.6",
         "123",
         "27.47",
         "195.5",
         "103",
         "16.62",
         "254.4",
         "103",
         "11.45",
         "13.7",
         "3",
         "3.7",
         "1",
         "False"
        ],
        [
         "2",
         "NJ",
         "137",
         "415",
         "358-1921",
         "no",
         "no",
         "0",
         "243.4",
         "114",
         "41.38",
         "121.2",
         "110",
         "10.3",
         "162.6",
         "104",
         "7.32",
         "12.2",
         "5",
         "3.29",
         "0",
         "False"
        ],
        [
         "3",
         "OH",
         "84",
         "408",
         "375-9999",
         "yes",
         "no",
         "0",
         "299.4",
         "71",
         "50.9",
         "61.9",
         "88",
         "5.26",
         "196.9",
         "89",
         "8.86",
         "6.6",
         "7",
         "1.78",
         "2",
         "False"
        ],
        [
         "4",
         "OK",
         "75",
         "415",
         "330-6626",
         "yes",
         "no",
         "0",
         "166.7",
         "113",
         "28.34",
         "148.3",
         "122",
         "12.61",
         "186.9",
         "121",
         "8.41",
         "10.1",
         "3",
         "2.73",
         "3",
         "False"
        ],
        [
         "5",
         "AL",
         "118",
         "510",
         "391-8027",
         "yes",
         "no",
         "0",
         "223.4",
         "98",
         "37.98",
         "220.6",
         "101",
         "18.75",
         "203.9",
         "118",
         "9.18",
         "6.3",
         "6",
         "1.7",
         "0",
         "False"
        ],
        [
         "6",
         "MA",
         "121",
         "510",
         "355-9993",
         "no",
         "yes",
         "24",
         "218.2",
         "88",
         "37.09",
         "348.5",
         "108",
         "29.62",
         "212.6",
         "118",
         "9.57",
         "7.5",
         "7",
         "2.03",
         "3",
         "False"
        ],
        [
         "7",
         "MO",
         "147",
         "415",
         "329-9001",
         "yes",
         "no",
         "0",
         "157.0",
         "79",
         "26.69",
         "103.1",
         "94",
         "8.76",
         "211.8",
         "96",
         "9.53",
         "7.1",
         "6",
         "1.92",
         "0",
         "False"
        ],
        [
         "8",
         "LA",
         "117",
         "408",
         "335-4719",
         "no",
         "no",
         "0",
         "184.5",
         "97",
         "31.37",
         "351.6",
         "80",
         "29.89",
         "215.8",
         "90",
         "9.71",
         "8.7",
         "4",
         "2.35",
         "1",
         "False"
        ],
        [
         "9",
         "WV",
         "141",
         "415",
         "330-8173",
         "yes",
         "yes",
         "37",
         "258.6",
         "84",
         "43.96",
         "222.0",
         "111",
         "18.87",
         "326.4",
         "97",
         "14.69",
         "11.2",
         "5",
         "3.02",
         "0",
         "False"
        ]
       ],
       "shape": {
        "columns": 21,
        "rows": 10
       }
      },
      "text/html": [
       "<div>\n",
       "<style scoped>\n",
       "    .dataframe tbody tr th:only-of-type {\n",
       "        vertical-align: middle;\n",
       "    }\n",
       "\n",
       "    .dataframe tbody tr th {\n",
       "        vertical-align: top;\n",
       "    }\n",
       "\n",
       "    .dataframe thead th {\n",
       "        text-align: right;\n",
       "    }\n",
       "</style>\n",
       "<table border=\"1\" class=\"dataframe\">\n",
       "  <thead>\n",
       "    <tr style=\"text-align: right;\">\n",
       "      <th></th>\n",
       "      <th>state</th>\n",
       "      <th>account length</th>\n",
       "      <th>area code</th>\n",
       "      <th>phone number</th>\n",
       "      <th>international plan</th>\n",
       "      <th>voice mail plan</th>\n",
       "      <th>number vmail messages</th>\n",
       "      <th>total day minutes</th>\n",
       "      <th>total day calls</th>\n",
       "      <th>total day charge</th>\n",
       "      <th>...</th>\n",
       "      <th>total eve calls</th>\n",
       "      <th>total eve charge</th>\n",
       "      <th>total night minutes</th>\n",
       "      <th>total night calls</th>\n",
       "      <th>total night charge</th>\n",
       "      <th>total intl minutes</th>\n",
       "      <th>total intl calls</th>\n",
       "      <th>total intl charge</th>\n",
       "      <th>customer service calls</th>\n",
       "      <th>churn</th>\n",
       "    </tr>\n",
       "  </thead>\n",
       "  <tbody>\n",
       "    <tr>\n",
       "      <th>0</th>\n",
       "      <td>KS</td>\n",
       "      <td>128</td>\n",
       "      <td>415</td>\n",
       "      <td>382-4657</td>\n",
       "      <td>no</td>\n",
       "      <td>yes</td>\n",
       "      <td>25</td>\n",
       "      <td>265.1</td>\n",
       "      <td>110</td>\n",
       "      <td>45.07</td>\n",
       "      <td>...</td>\n",
       "      <td>99</td>\n",
       "      <td>16.78</td>\n",
       "      <td>244.7</td>\n",
       "      <td>91</td>\n",
       "      <td>11.01</td>\n",
       "      <td>10.0</td>\n",
       "      <td>3</td>\n",
       "      <td>2.70</td>\n",
       "      <td>1</td>\n",
       "      <td>False</td>\n",
       "    </tr>\n",
       "    <tr>\n",
       "      <th>1</th>\n",
       "      <td>OH</td>\n",
       "      <td>107</td>\n",
       "      <td>415</td>\n",
       "      <td>371-7191</td>\n",
       "      <td>no</td>\n",
       "      <td>yes</td>\n",
       "      <td>26</td>\n",
       "      <td>161.6</td>\n",
       "      <td>123</td>\n",
       "      <td>27.47</td>\n",
       "      <td>...</td>\n",
       "      <td>103</td>\n",
       "      <td>16.62</td>\n",
       "      <td>254.4</td>\n",
       "      <td>103</td>\n",
       "      <td>11.45</td>\n",
       "      <td>13.7</td>\n",
       "      <td>3</td>\n",
       "      <td>3.70</td>\n",
       "      <td>1</td>\n",
       "      <td>False</td>\n",
       "    </tr>\n",
       "    <tr>\n",
       "      <th>2</th>\n",
       "      <td>NJ</td>\n",
       "      <td>137</td>\n",
       "      <td>415</td>\n",
       "      <td>358-1921</td>\n",
       "      <td>no</td>\n",
       "      <td>no</td>\n",
       "      <td>0</td>\n",
       "      <td>243.4</td>\n",
       "      <td>114</td>\n",
       "      <td>41.38</td>\n",
       "      <td>...</td>\n",
       "      <td>110</td>\n",
       "      <td>10.30</td>\n",
       "      <td>162.6</td>\n",
       "      <td>104</td>\n",
       "      <td>7.32</td>\n",
       "      <td>12.2</td>\n",
       "      <td>5</td>\n",
       "      <td>3.29</td>\n",
       "      <td>0</td>\n",
       "      <td>False</td>\n",
       "    </tr>\n",
       "    <tr>\n",
       "      <th>3</th>\n",
       "      <td>OH</td>\n",
       "      <td>84</td>\n",
       "      <td>408</td>\n",
       "      <td>375-9999</td>\n",
       "      <td>yes</td>\n",
       "      <td>no</td>\n",
       "      <td>0</td>\n",
       "      <td>299.4</td>\n",
       "      <td>71</td>\n",
       "      <td>50.90</td>\n",
       "      <td>...</td>\n",
       "      <td>88</td>\n",
       "      <td>5.26</td>\n",
       "      <td>196.9</td>\n",
       "      <td>89</td>\n",
       "      <td>8.86</td>\n",
       "      <td>6.6</td>\n",
       "      <td>7</td>\n",
       "      <td>1.78</td>\n",
       "      <td>2</td>\n",
       "      <td>False</td>\n",
       "    </tr>\n",
       "    <tr>\n",
       "      <th>4</th>\n",
       "      <td>OK</td>\n",
       "      <td>75</td>\n",
       "      <td>415</td>\n",
       "      <td>330-6626</td>\n",
       "      <td>yes</td>\n",
       "      <td>no</td>\n",
       "      <td>0</td>\n",
       "      <td>166.7</td>\n",
       "      <td>113</td>\n",
       "      <td>28.34</td>\n",
       "      <td>...</td>\n",
       "      <td>122</td>\n",
       "      <td>12.61</td>\n",
       "      <td>186.9</td>\n",
       "      <td>121</td>\n",
       "      <td>8.41</td>\n",
       "      <td>10.1</td>\n",
       "      <td>3</td>\n",
       "      <td>2.73</td>\n",
       "      <td>3</td>\n",
       "      <td>False</td>\n",
       "    </tr>\n",
       "    <tr>\n",
       "      <th>5</th>\n",
       "      <td>AL</td>\n",
       "      <td>118</td>\n",
       "      <td>510</td>\n",
       "      <td>391-8027</td>\n",
       "      <td>yes</td>\n",
       "      <td>no</td>\n",
       "      <td>0</td>\n",
       "      <td>223.4</td>\n",
       "      <td>98</td>\n",
       "      <td>37.98</td>\n",
       "      <td>...</td>\n",
       "      <td>101</td>\n",
       "      <td>18.75</td>\n",
       "      <td>203.9</td>\n",
       "      <td>118</td>\n",
       "      <td>9.18</td>\n",
       "      <td>6.3</td>\n",
       "      <td>6</td>\n",
       "      <td>1.70</td>\n",
       "      <td>0</td>\n",
       "      <td>False</td>\n",
       "    </tr>\n",
       "    <tr>\n",
       "      <th>6</th>\n",
       "      <td>MA</td>\n",
       "      <td>121</td>\n",
       "      <td>510</td>\n",
       "      <td>355-9993</td>\n",
       "      <td>no</td>\n",
       "      <td>yes</td>\n",
       "      <td>24</td>\n",
       "      <td>218.2</td>\n",
       "      <td>88</td>\n",
       "      <td>37.09</td>\n",
       "      <td>...</td>\n",
       "      <td>108</td>\n",
       "      <td>29.62</td>\n",
       "      <td>212.6</td>\n",
       "      <td>118</td>\n",
       "      <td>9.57</td>\n",
       "      <td>7.5</td>\n",
       "      <td>7</td>\n",
       "      <td>2.03</td>\n",
       "      <td>3</td>\n",
       "      <td>False</td>\n",
       "    </tr>\n",
       "    <tr>\n",
       "      <th>7</th>\n",
       "      <td>MO</td>\n",
       "      <td>147</td>\n",
       "      <td>415</td>\n",
       "      <td>329-9001</td>\n",
       "      <td>yes</td>\n",
       "      <td>no</td>\n",
       "      <td>0</td>\n",
       "      <td>157.0</td>\n",
       "      <td>79</td>\n",
       "      <td>26.69</td>\n",
       "      <td>...</td>\n",
       "      <td>94</td>\n",
       "      <td>8.76</td>\n",
       "      <td>211.8</td>\n",
       "      <td>96</td>\n",
       "      <td>9.53</td>\n",
       "      <td>7.1</td>\n",
       "      <td>6</td>\n",
       "      <td>1.92</td>\n",
       "      <td>0</td>\n",
       "      <td>False</td>\n",
       "    </tr>\n",
       "    <tr>\n",
       "      <th>8</th>\n",
       "      <td>LA</td>\n",
       "      <td>117</td>\n",
       "      <td>408</td>\n",
       "      <td>335-4719</td>\n",
       "      <td>no</td>\n",
       "      <td>no</td>\n",
       "      <td>0</td>\n",
       "      <td>184.5</td>\n",
       "      <td>97</td>\n",
       "      <td>31.37</td>\n",
       "      <td>...</td>\n",
       "      <td>80</td>\n",
       "      <td>29.89</td>\n",
       "      <td>215.8</td>\n",
       "      <td>90</td>\n",
       "      <td>9.71</td>\n",
       "      <td>8.7</td>\n",
       "      <td>4</td>\n",
       "      <td>2.35</td>\n",
       "      <td>1</td>\n",
       "      <td>False</td>\n",
       "    </tr>\n",
       "    <tr>\n",
       "      <th>9</th>\n",
       "      <td>WV</td>\n",
       "      <td>141</td>\n",
       "      <td>415</td>\n",
       "      <td>330-8173</td>\n",
       "      <td>yes</td>\n",
       "      <td>yes</td>\n",
       "      <td>37</td>\n",
       "      <td>258.6</td>\n",
       "      <td>84</td>\n",
       "      <td>43.96</td>\n",
       "      <td>...</td>\n",
       "      <td>111</td>\n",
       "      <td>18.87</td>\n",
       "      <td>326.4</td>\n",
       "      <td>97</td>\n",
       "      <td>14.69</td>\n",
       "      <td>11.2</td>\n",
       "      <td>5</td>\n",
       "      <td>3.02</td>\n",
       "      <td>0</td>\n",
       "      <td>False</td>\n",
       "    </tr>\n",
       "  </tbody>\n",
       "</table>\n",
       "<p>10 rows × 21 columns</p>\n",
       "</div>"
      ],
      "text/plain": [
       "  state  account length  area code phone number international plan  \\\n",
       "0    KS             128        415     382-4657                 no   \n",
       "1    OH             107        415     371-7191                 no   \n",
       "2    NJ             137        415     358-1921                 no   \n",
       "3    OH              84        408     375-9999                yes   \n",
       "4    OK              75        415     330-6626                yes   \n",
       "5    AL             118        510     391-8027                yes   \n",
       "6    MA             121        510     355-9993                 no   \n",
       "7    MO             147        415     329-9001                yes   \n",
       "8    LA             117        408     335-4719                 no   \n",
       "9    WV             141        415     330-8173                yes   \n",
       "\n",
       "  voice mail plan  number vmail messages  total day minutes  total day calls  \\\n",
       "0             yes                     25              265.1              110   \n",
       "1             yes                     26              161.6              123   \n",
       "2              no                      0              243.4              114   \n",
       "3              no                      0              299.4               71   \n",
       "4              no                      0              166.7              113   \n",
       "5              no                      0              223.4               98   \n",
       "6             yes                     24              218.2               88   \n",
       "7              no                      0              157.0               79   \n",
       "8              no                      0              184.5               97   \n",
       "9             yes                     37              258.6               84   \n",
       "\n",
       "   total day charge  ...  total eve calls  total eve charge  \\\n",
       "0             45.07  ...               99             16.78   \n",
       "1             27.47  ...              103             16.62   \n",
       "2             41.38  ...              110             10.30   \n",
       "3             50.90  ...               88              5.26   \n",
       "4             28.34  ...              122             12.61   \n",
       "5             37.98  ...              101             18.75   \n",
       "6             37.09  ...              108             29.62   \n",
       "7             26.69  ...               94              8.76   \n",
       "8             31.37  ...               80             29.89   \n",
       "9             43.96  ...              111             18.87   \n",
       "\n",
       "   total night minutes  total night calls  total night charge  \\\n",
       "0                244.7                 91               11.01   \n",
       "1                254.4                103               11.45   \n",
       "2                162.6                104                7.32   \n",
       "3                196.9                 89                8.86   \n",
       "4                186.9                121                8.41   \n",
       "5                203.9                118                9.18   \n",
       "6                212.6                118                9.57   \n",
       "7                211.8                 96                9.53   \n",
       "8                215.8                 90                9.71   \n",
       "9                326.4                 97               14.69   \n",
       "\n",
       "   total intl minutes  total intl calls  total intl charge  \\\n",
       "0                10.0                 3               2.70   \n",
       "1                13.7                 3               3.70   \n",
       "2                12.2                 5               3.29   \n",
       "3                 6.6                 7               1.78   \n",
       "4                10.1                 3               2.73   \n",
       "5                 6.3                 6               1.70   \n",
       "6                 7.5                 7               2.03   \n",
       "7                 7.1                 6               1.92   \n",
       "8                 8.7                 4               2.35   \n",
       "9                11.2                 5               3.02   \n",
       "\n",
       "   customer service calls  churn  \n",
       "0                       1  False  \n",
       "1                       1  False  \n",
       "2                       0  False  \n",
       "3                       2  False  \n",
       "4                       3  False  \n",
       "5                       0  False  \n",
       "6                       3  False  \n",
       "7                       0  False  \n",
       "8                       1  False  \n",
       "9                       0  False  \n",
       "\n",
       "[10 rows x 21 columns]"
      ]
     },
     "execution_count": 24,
     "metadata": {},
     "output_type": "execute_result"
    }
   ],
   "source": [
    "# Standard Libraries\n",
    "import pandas as pd\n",
    "import numpy as np\n",
    "\n",
    "# Visualization\n",
    "import matplotlib.pyplot as plt\n",
    "import seaborn as sns\n",
    "\n",
    "# Modeling\n",
    "from sklearn.model_selection import train_test_split, RandomizedSearchCV, cross_validate,cross_val_score\n",
    "from sklearn.linear_model import LogisticRegression\n",
    "from sklearn.metrics import accuracy_score,precision_score, recall_score, f1_score, precision_recall_curve, precision_score, recall_score, roc_auc_score, confusion_matrix, ConfusionMatrixDisplay,make_scorer,roc_curve, auc\n",
    "from sklearn.ensemble import RandomForestClassifier\n",
    "import joblib\n",
    "\n",
    "# Load the data\n",
    "df = pd.read_csv('bigml_59c28831336c6604c800002a.csv')  # loading the csv file\n",
    "df.head(10)\n"
   ]
  },
  {
   "cell_type": "code",
   "execution_count": 25,
   "id": "f29fb797",
   "metadata": {},
   "outputs": [
    {
     "data": {
      "text/plain": [
       "['.git',\n",
       " 'bigml_59c28831336c6604c800002a.csv',\n",
       " 'customer_churn_modeling_phase3.ipynb']"
      ]
     },
     "execution_count": 25,
     "metadata": {},
     "output_type": "execute_result"
    }
   ],
   "source": [
    "import os\n",
    "os.listdir()\n"
   ]
  },
  {
   "cell_type": "code",
   "execution_count": 26,
   "id": "4eecc58d",
   "metadata": {},
   "outputs": [
    {
     "data": {
      "text/plain": [
       "(3333, 21)"
      ]
     },
     "execution_count": 26,
     "metadata": {},
     "output_type": "execute_result"
    }
   ],
   "source": [
    "df.shape"
   ]
  },
  {
   "cell_type": "code",
   "execution_count": 27,
   "id": "1b2fd31c",
   "metadata": {},
   "outputs": [
    {
     "name": "stdout",
     "output_type": "stream",
     "text": [
      "<class 'pandas.core.frame.DataFrame'>\n",
      "RangeIndex: 3333 entries, 0 to 3332\n",
      "Data columns (total 21 columns):\n",
      " #   Column                  Non-Null Count  Dtype  \n",
      "---  ------                  --------------  -----  \n",
      " 0   state                   3333 non-null   object \n",
      " 1   account length          3333 non-null   int64  \n",
      " 2   area code               3333 non-null   int64  \n",
      " 3   phone number            3333 non-null   object \n",
      " 4   international plan      3333 non-null   object \n",
      " 5   voice mail plan         3333 non-null   object \n",
      " 6   number vmail messages   3333 non-null   int64  \n",
      " 7   total day minutes       3333 non-null   float64\n",
      " 8   total day calls         3333 non-null   int64  \n",
      " 9   total day charge        3333 non-null   float64\n",
      " 10  total eve minutes       3333 non-null   float64\n",
      " 11  total eve calls         3333 non-null   int64  \n",
      " 12  total eve charge        3333 non-null   float64\n",
      " 13  total night minutes     3333 non-null   float64\n",
      " 14  total night calls       3333 non-null   int64  \n",
      " 15  total night charge      3333 non-null   float64\n",
      " 16  total intl minutes      3333 non-null   float64\n",
      " 17  total intl calls        3333 non-null   int64  \n",
      " 18  total intl charge       3333 non-null   float64\n",
      " 19  customer service calls  3333 non-null   int64  \n",
      " 20  churn                   3333 non-null   bool   \n",
      "dtypes: bool(1), float64(8), int64(8), object(4)\n",
      "memory usage: 524.2+ KB\n"
     ]
    },
    {
     "data": {
      "application/vnd.microsoft.datawrangler.viewer.v0+json": {
       "columns": [
        {
         "name": "churn",
         "rawType": "bool",
         "type": "boolean"
        },
        {
         "name": "count",
         "rawType": "int64",
         "type": "integer"
        }
       ],
       "ref": "cb2cae18-e9fb-4adb-8579-114f052df4fe",
       "rows": [
        [
         "False",
         "2850"
        ],
        [
         "True",
         "483"
        ]
       ],
       "shape": {
        "columns": 1,
        "rows": 2
       }
      },
      "text/plain": [
       "churn\n",
       "False    2850\n",
       "True      483\n",
       "Name: count, dtype: int64"
      ]
     },
     "execution_count": 27,
     "metadata": {},
     "output_type": "execute_result"
    }
   ],
   "source": [
    "df.info()\n",
    "df.describe()\n",
    "df['churn'].value_counts()  # Target distribution\n"
   ]
  },
  {
   "cell_type": "code",
   "execution_count": 28,
   "id": "bbfea006",
   "metadata": {},
   "outputs": [
    {
     "name": "stdout",
     "output_type": "stream",
     "text": [
      "['state', 'account length', 'area code', 'phone number', 'international plan', 'voice mail plan', 'number vmail messages', 'total day minutes', 'total day calls', 'total day charge', 'total eve minutes', 'total eve calls', 'total eve charge', 'total night minutes', 'total night calls', 'total night charge', 'total intl minutes', 'total intl calls', 'total intl charge', 'customer service calls', 'churn']\n"
     ]
    }
   ],
   "source": [
    "print(df.columns.tolist())\n"
   ]
  },
  {
   "cell_type": "code",
   "execution_count": 29,
   "id": "8041709c",
   "metadata": {},
   "outputs": [
    {
     "data": {
      "text/plain": [
       "['state',\n",
       " 'area code',\n",
       " 'phone number',\n",
       " 'international plan',\n",
       " 'voice mail plan',\n",
       " 'churn']"
      ]
     },
     "execution_count": 29,
     "metadata": {},
     "output_type": "execute_result"
    }
   ],
   "source": [
    "# Convert categorical variables to category type\n",
    "categorical_cols = ['state', 'area code', 'phone number', 'international plan', 'voice mail plan', 'churn']\n",
    "\n",
    "for col in categorical_cols:\n",
    "    df[col] = df[col].astype('category')\n",
    "\n",
    "categorical_cols\n"
   ]
  },
  {
   "cell_type": "code",
   "execution_count": 30,
   "id": "62d2b23f",
   "metadata": {},
   "outputs": [
    {
     "data": {
      "text/plain": [
       "['account length',\n",
       " 'number vmail messages',\n",
       " 'total day minutes',\n",
       " 'total day calls',\n",
       " 'total day charge',\n",
       " 'total eve minutes',\n",
       " 'total eve calls',\n",
       " 'total eve charge',\n",
       " 'total night minutes',\n",
       " 'total night calls',\n",
       " 'total night charge',\n",
       " 'total intl minutes',\n",
       " 'total intl calls',\n",
       " 'total intl charge',\n",
       " 'customer service calls']"
      ]
     },
     "execution_count": 30,
     "metadata": {},
     "output_type": "execute_result"
    }
   ],
   "source": [
    "# Handle outliers using IQR\n",
    "numeric_cols = ['account length', 'number vmail messages', \n",
    "                'total day minutes', 'total day calls', 'total day charge',\n",
    "                'total eve minutes', 'total eve calls', 'total eve charge',\n",
    "                'total night minutes', 'total night calls', 'total night charge',\n",
    "                'total intl minutes', 'total intl calls', 'total intl charge',\n",
    "                'customer service calls']\n",
    "\n",
    "for col in numeric_cols:\n",
    "    Q1 = df[col].quantile(0.25)\n",
    "    Q3 = df[col].quantile(0.75)\n",
    "    IQR = Q3 - Q1\n",
    "    lower_bound = Q1 - 1.5 * IQR\n",
    "    upper_bound = Q3 + 1.5 * IQR\n",
    "    df[col] = df[col].clip(lower=lower_bound, upper=upper_bound)\n",
    "\n",
    "numeric_cols\n"
   ]
  },
  {
   "cell_type": "code",
   "execution_count": 31,
   "id": "6eb07eb6",
   "metadata": {},
   "outputs": [
    {
     "name": "stdout",
     "output_type": "stream",
     "text": [
      "   account length  number vmail messages  total day minutes  total day calls  \\\n",
      "0           128.0                     25              265.1            110.0   \n",
      "1           107.0                     26              161.6            123.0   \n",
      "2           137.0                      0              243.4            114.0   \n",
      "3            84.0                      0              299.4             71.0   \n",
      "4            75.0                      0              166.7            113.0   \n",
      "\n",
      "   total day charge  total eve minutes  total eve calls  total eve charge  \\\n",
      "0             45.07             197.40             99.0             16.78   \n",
      "1             27.47             195.50            103.0             16.62   \n",
      "2             41.38             121.20            110.0             10.30   \n",
      "3             50.90              63.55             88.0              5.40   \n",
      "4             28.34             148.30            122.0             12.61   \n",
      "\n",
      "   total night minutes  total night calls  ...  phone number_422-5874  \\\n",
      "0                244.7                 91  ...                  False   \n",
      "1                254.4                103  ...                  False   \n",
      "2                162.6                104  ...                  False   \n",
      "3                196.9                 89  ...                  False   \n",
      "4                186.9                121  ...                  False   \n",
      "\n",
      "   phone number_422-6685  phone number_422-6690  phone number_422-7728  \\\n",
      "0                  False                  False                  False   \n",
      "1                  False                  False                  False   \n",
      "2                  False                  False                  False   \n",
      "3                  False                  False                  False   \n",
      "4                  False                  False                  False   \n",
      "\n",
      "   phone number_422-8268  phone number_422-8333  phone number_422-8344  \\\n",
      "0                  False                  False                  False   \n",
      "1                  False                  False                  False   \n",
      "2                  False                  False                  False   \n",
      "3                  False                  False                  False   \n",
      "4                  False                  False                  False   \n",
      "\n",
      "   phone number_422-9964  international plan_yes  voice mail plan_yes  \n",
      "0                  False                   False                 True  \n",
      "1                  False                   False                 True  \n",
      "2                  False                   False                False  \n",
      "3                  False                    True                False  \n",
      "4                  False                    True                False  \n",
      "\n",
      "[5 rows x 3402 columns]\n",
      "Index(['account length', 'number vmail messages', 'total day minutes',\n",
      "       'total day calls', 'total day charge', 'total eve minutes',\n",
      "       'total eve calls', 'total eve charge', 'total night minutes',\n",
      "       'total night calls',\n",
      "       ...\n",
      "       'phone number_422-5874', 'phone number_422-6685',\n",
      "       'phone number_422-6690', 'phone number_422-7728',\n",
      "       'phone number_422-8268', 'phone number_422-8333',\n",
      "       'phone number_422-8344', 'phone number_422-9964',\n",
      "       'international plan_yes', 'voice mail plan_yes'],\n",
      "      dtype='object', length=3402)\n"
     ]
    }
   ],
   "source": [
    "# One-hot encode categorical variables (excluding 'churn' as it's the target)\n",
    "categorical_cols_to_encode = ['state', 'area code', 'phone number', 'international plan', 'voice mail plan']\n",
    "\n",
    "# Apply one-hot encoding\n",
    "df_encoded = pd.get_dummies(df, columns=categorical_cols_to_encode, drop_first=True)\n",
    "\n",
    "# Ensure churn is numeric (if it's not already)\n",
    "df_encoded['churn'] = df_encoded['churn'].astype(int)\n",
    "\n",
    "# Preview the transformed data\n",
    "print(df_encoded.head())       # View the first few rows\n",
    "print(df_encoded.columns)      # Check the column names\n"
   ]
  },
  {
   "cell_type": "code",
   "execution_count": 32,
   "id": "b8e7ced4",
   "metadata": {},
   "outputs": [
    {
     "name": "stdout",
     "output_type": "stream",
     "text": [
      "Numerical columns:\n",
      "['account length', 'number vmail messages', 'total day minutes', 'total day calls', 'total day charge', 'total eve minutes', 'total eve calls', 'total eve charge', 'total night minutes', 'total night calls', 'total night charge', 'total intl minutes', 'total intl calls', 'total intl charge', 'customer service calls']\n",
      "\n",
      "Binary/Categorical columns:\n",
      "['state_AL', 'state_AR', 'state_AZ', 'state_CA', 'state_CO', 'state_CT', 'state_DC', 'state_DE', 'state_FL', 'state_GA', 'state_HI', 'state_IA', 'state_ID', 'state_IL', 'state_IN', 'state_KS', 'state_KY', 'state_LA', 'state_MA', 'state_MD', 'state_ME', 'state_MI', 'state_MN', 'state_MO', 'state_MS', 'state_MT', 'state_NC', 'state_ND', 'state_NE', 'state_NH', 'state_NJ', 'state_NM', 'state_NV', 'state_NY', 'state_OH', 'state_OK', 'state_OR', 'state_PA', 'state_RI', 'state_SC', 'state_SD', 'state_TN', 'state_TX', 'state_UT', 'state_VA', 'state_VT', 'state_WA', 'state_WI', 'state_WV', 'state_WY', 'area code_415', 'area code_510', 'phone number_327-1319', 'phone number_327-3053', 'phone number_327-3587', 'phone number_327-3850', 'phone number_327-3954', 'phone number_327-4795', 'phone number_327-5525', 'phone number_327-5817', 'phone number_327-6087', 'phone number_327-6179', 'phone number_327-6194', 'phone number_327-6764', 'phone number_327-6989', 'phone number_327-8495', 'phone number_327-8732', 'phone number_327-9289', 'phone number_327-9341', 'phone number_327-9957', 'phone number_328-1206', 'phone number_328-1222', 'phone number_328-1373', 'phone number_328-1522', 'phone number_328-1768', 'phone number_328-2110', 'phone number_328-2236', 'phone number_328-2478', 'phone number_328-2647', 'phone number_328-2982', 'phone number_328-3266', 'phone number_328-3402', 'phone number_328-4231', 'phone number_328-5050', 'phone number_328-5188', 'phone number_328-6011', 'phone number_328-6289', 'phone number_328-6770', 'phone number_328-7209', 'phone number_328-7252', 'phone number_328-7833', 'phone number_328-8147', 'phone number_328-8179', 'phone number_328-8230', 'phone number_328-8747', 'phone number_328-8808', 'phone number_328-8980', 'phone number_328-9006', 'phone number_328-9267', 'phone number_328-9315', 'phone number_328-9797', 'phone number_328-9869', 'phone number_329-1410', 'phone number_329-1955', 'phone number_329-2045', 'phone number_329-2204', 'phone number_329-2388', 'phone number_329-2786', 'phone number_329-2789', 'phone number_329-2918', 'phone number_329-3222', 'phone number_329-3458', 'phone number_329-4391', 'phone number_329-4474', 'phone number_329-5114', 'phone number_329-5377', 'phone number_329-5400', 'phone number_329-6144', 'phone number_329-6191', 'phone number_329-6192', 'phone number_329-6562', 'phone number_329-6603', 'phone number_329-6731', 'phone number_329-7102', 'phone number_329-7347', 'phone number_329-8056', 'phone number_329-8115', 'phone number_329-8436', 'phone number_329-8638', 'phone number_329-8669', 'phone number_329-8788', 'phone number_329-9001', 'phone number_329-9046', 'phone number_329-9067', 'phone number_329-9364', 'phone number_329-9517', 'phone number_329-9667', 'phone number_329-9689', 'phone number_329-9847', 'phone number_330-1175', 'phone number_330-1627', 'phone number_330-1835', 'phone number_330-2635', 'phone number_330-2662', 'phone number_330-2693', 'phone number_330-2849', 'phone number_330-2881', 'phone number_330-3008', 'phone number_330-3429', 'phone number_330-3589', 'phone number_330-4364', 'phone number_330-4419', 'phone number_330-4914', 'phone number_330-4978', 'phone number_330-5168', 'phone number_330-5255', 'phone number_330-5462', 'phone number_330-5824', 'phone number_330-6165', 'phone number_330-6208', 'phone number_330-6436', 'phone number_330-6626', 'phone number_330-6630', 'phone number_330-7137', 'phone number_330-7483', 'phone number_330-7486', 'phone number_330-7754', 'phone number_330-8142', 'phone number_330-8173', 'phone number_330-8351', 'phone number_330-9294', 'phone number_330-9354', 'phone number_330-9833', 'phone number_331-1391', 'phone number_331-2144', 'phone number_331-3174', 'phone number_331-3202', 'phone number_331-3698', 'phone number_331-3842', 'phone number_331-4184', 'phone number_331-4807', 'phone number_331-4902', 'phone number_331-5138', 'phone number_331-5919', 'phone number_331-5962', 'phone number_331-5999', 'phone number_331-6229', 'phone number_331-6270', 'phone number_331-6629', 'phone number_331-7342', 'phone number_331-7425', 'phone number_331-8462', 'phone number_331-8484', 'phone number_331-8713', 'phone number_331-8909', 'phone number_331-9149', 'phone number_331-9293', 'phone number_331-9861', 'phone number_332-1060', 'phone number_332-1109', 'phone number_332-1494', 'phone number_332-1502', 'phone number_332-1690', 'phone number_332-2126', 'phone number_332-2137', 'phone number_332-2258', 'phone number_332-2275', 'phone number_332-2462', 'phone number_332-2650', 'phone number_332-2889', 'phone number_332-2965', 'phone number_332-3381', 'phone number_332-3544', 'phone number_332-3617', 'phone number_332-3642', 'phone number_332-3693', 'phone number_332-3804', 'phone number_332-4289', 'phone number_332-4291', 'phone number_332-5084', 'phone number_332-5521', 'phone number_332-5582', 'phone number_332-5596', 'phone number_332-5820', 'phone number_332-5949', 'phone number_332-5964', 'phone number_332-6139', 'phone number_332-6181', 'phone number_332-6633', 'phone number_332-6934', 'phone number_332-6958', 'phone number_332-7391', 'phone number_332-7607', 'phone number_332-8103', 'phone number_332-8160', 'phone number_332-8764', 'phone number_332-9118', 'phone number_332-9446', 'phone number_332-9460', 'phone number_332-9525', 'phone number_332-9891', 'phone number_332-9896', 'phone number_333-1012', 'phone number_333-1967', 'phone number_333-2337', 'phone number_333-2611', 'phone number_333-2906', 'phone number_333-2964', 'phone number_333-3010', 'phone number_333-3221', 'phone number_333-3421', 'phone number_333-3447', 'phone number_333-3460', 'phone number_333-3531', 'phone number_333-3595', 'phone number_333-3704', 'phone number_333-4154', 'phone number_333-4492', 'phone number_333-4594', 'phone number_333-5101', 'phone number_333-5295', 'phone number_333-5430', 'phone number_333-5551', 'phone number_333-5609', 'phone number_333-5729', 'phone number_333-6296', 'phone number_333-6575', 'phone number_333-7225', 'phone number_333-7449', 'phone number_333-7460', 'phone number_333-7631', 'phone number_333-7637', 'phone number_333-7749', 'phone number_333-7869', 'phone number_333-7961', 'phone number_333-8180', 'phone number_333-8822', 'phone number_333-8954', 'phone number_333-8996', 'phone number_333-9002', 'phone number_333-9133', 'phone number_333-9253', 'phone number_333-9266', 'phone number_333-9511', 'phone number_333-9643', 'phone number_333-9664', 'phone number_333-9728', 'phone number_333-9826', 'phone number_334-1275', 'phone number_334-1311', 'phone number_334-1337', 'phone number_334-1339', 'phone number_334-1508', 'phone number_334-1872', 'phone number_334-2577', 'phone number_334-2729', 'phone number_334-2730', 'phone number_334-2800', 'phone number_334-2961', 'phone number_334-3142', 'phone number_334-3289', 'phone number_334-4354', 'phone number_334-4438', 'phone number_334-4506', 'phone number_334-4678', 'phone number_334-5029', 'phone number_334-5223', 'phone number_334-5263', 'phone number_334-5337', 'phone number_334-5634', 'phone number_334-5844', 'phone number_334-6129', 'phone number_334-6142', 'phone number_334-6519', 'phone number_334-6605', 'phone number_334-7443', 'phone number_334-7618', 'phone number_334-7685', 'phone number_334-8694', 'phone number_334-8817', 'phone number_334-8967', 'phone number_334-9163', 'phone number_334-9182', 'phone number_334-9505', 'phone number_334-9806', 'phone number_334-9818', 'phone number_335-1697', 'phone number_335-1838', 'phone number_335-1874', 'phone number_335-2019', 'phone number_335-2261', 'phone number_335-2274', 'phone number_335-2331', 'phone number_335-2967', 'phone number_335-3110', 'phone number_335-3133', 'phone number_335-3320', 'phone number_335-3681', 'phone number_335-3880', 'phone number_335-3913', 'phone number_335-4414', 'phone number_335-4584', 'phone number_335-4719', 'phone number_335-4858', 'phone number_335-4888', 'phone number_335-5591', 'phone number_335-5806', 'phone number_335-5882', 'phone number_335-6508', 'phone number_335-6832', 'phone number_335-7144', 'phone number_335-7257', 'phone number_335-7324', 'phone number_335-8146', 'phone number_335-8427', 'phone number_335-8836', 'phone number_335-9066', 'phone number_335-9501', 'phone number_335-9726', 'phone number_335-9786', 'phone number_336-1043', 'phone number_336-1090', 'phone number_336-1353', 'phone number_336-1462', 'phone number_336-1574', 'phone number_336-1749', 'phone number_336-1880', 'phone number_336-2090', 'phone number_336-2190', 'phone number_336-2322', 'phone number_336-2829', 'phone number_336-3488', 'phone number_336-3738', 'phone number_336-3819', 'phone number_336-4281', 'phone number_336-4656', 'phone number_336-4960', 'phone number_336-5406', 'phone number_336-5495', 'phone number_336-5616', 'phone number_336-5661', 'phone number_336-5702', 'phone number_336-5900', 'phone number_336-5920', 'phone number_336-6085', 'phone number_336-6128', 'phone number_336-6533', 'phone number_336-6907', 'phone number_336-6997', 'phone number_336-7143', 'phone number_336-7155', 'phone number_336-7357', 'phone number_336-7600', 'phone number_336-7696', 'phone number_336-8010', 'phone number_336-8343', 'phone number_336-9053', 'phone number_336-9273', 'phone number_336-9327', 'phone number_336-9390', 'phone number_336-9901', 'phone number_337-1100', 'phone number_337-1151', 'phone number_337-1225', 'phone number_337-1506', 'phone number_337-1586', 'phone number_337-1802', 'phone number_337-2348', 'phone number_337-2442', 'phone number_337-2986', 'phone number_337-3740', 'phone number_337-3769', 'phone number_337-3868', 'phone number_337-3932', 'phone number_337-4101', 'phone number_337-4339', 'phone number_337-4403', 'phone number_337-4600', 'phone number_337-4697', 'phone number_337-4749', 'phone number_337-6851', 'phone number_337-6898', 'phone number_337-7163', 'phone number_337-7167', 'phone number_337-7377', 'phone number_337-7501', 'phone number_337-7739', 'phone number_337-7879', 'phone number_337-8078', 'phone number_337-8618', 'phone number_337-8950', 'phone number_337-9303', 'phone number_337-9326', 'phone number_337-9345', 'phone number_337-9569', 'phone number_337-9710', 'phone number_337-9878', 'phone number_338-1027', 'phone number_338-1400', 'phone number_338-1724', 'phone number_338-1815', 'phone number_338-1840', 'phone number_338-3781', 'phone number_338-4065', 'phone number_338-4307', 'phone number_338-4472', 'phone number_338-5207', 'phone number_338-6018', 'phone number_338-6283', 'phone number_338-6550', 'phone number_338-6556', 'phone number_338-6714', 'phone number_338-6962', 'phone number_338-6981', 'phone number_338-7120', 'phone number_338-7232', 'phone number_338-7305', 'phone number_338-7527', 'phone number_338-7683', 'phone number_338-7709', 'phone number_338-7886', 'phone number_338-7955', 'phone number_338-8050', 'phone number_338-8478', 'phone number_338-8566', 'phone number_338-8784', 'phone number_338-9044', 'phone number_338-9171', 'phone number_338-9210', 'phone number_338-9398', 'phone number_338-9472', 'phone number_338-9612', 'phone number_338-9873', 'phone number_338-9950', 'phone number_338-9952', 'phone number_339-1330', 'phone number_339-1405', 'phone number_339-2616', 'phone number_339-2734', 'phone number_339-2792', 'phone number_339-3049', 'phone number_339-3636', 'phone number_339-4068', 'phone number_339-4317', 'phone number_339-4636', 'phone number_339-5329', 'phone number_339-5423', 'phone number_339-5659', 'phone number_339-6446', 'phone number_339-6477', 'phone number_339-6637', 'phone number_339-6968', 'phone number_339-7139', 'phone number_339-7485', 'phone number_339-7541', 'phone number_339-7602', 'phone number_339-7684', 'phone number_339-8132', 'phone number_339-9026', 'phone number_339-9453', 'phone number_339-9631', 'phone number_339-9798', 'phone number_340-1876', 'phone number_340-2239', 'phone number_340-2855', 'phone number_340-3011', 'phone number_340-3075', 'phone number_340-3182', 'phone number_340-3409', 'phone number_340-3500', 'phone number_340-4028', 'phone number_340-4236', 'phone number_340-4627', 'phone number_340-4953', 'phone number_340-4972', 'phone number_340-4989', 'phone number_340-5121', 'phone number_340-5460', 'phone number_340-5580', 'phone number_340-5678', 'phone number_340-5930', 'phone number_340-6221', 'phone number_340-6339', 'phone number_340-6908', 'phone number_340-7062', 'phone number_340-8177', 'phone number_340-8245', 'phone number_340-8291', 'phone number_340-8323', 'phone number_340-8875', 'phone number_340-9013', 'phone number_340-9200', 'phone number_340-9449', 'phone number_340-9803', 'phone number_340-9910', 'phone number_341-1191', 'phone number_341-1412', 'phone number_341-1594', 'phone number_341-1647', 'phone number_341-1916', 'phone number_341-2360', 'phone number_341-2603', 'phone number_341-3044', 'phone number_341-3180', 'phone number_341-3270', 'phone number_341-3349', 'phone number_341-3464', 'phone number_341-3663', 'phone number_341-4075', 'phone number_341-4103', 'phone number_341-4463', 'phone number_341-4570', 'phone number_341-4873', 'phone number_341-5892', 'phone number_341-6743', 'phone number_341-7112', 'phone number_341-7279', 'phone number_341-7296', 'phone number_341-7332', 'phone number_341-7412', 'phone number_341-7686', 'phone number_341-8412', 'phone number_341-8467', 'phone number_341-8667', 'phone number_341-8719', 'phone number_341-9274', 'phone number_341-9396', 'phone number_341-9443', 'phone number_341-9764', 'phone number_341-9890', 'phone number_341-9907', 'phone number_342-1004', 'phone number_342-1099', 'phone number_342-1702', 'phone number_342-1960', 'phone number_342-2013', 'phone number_342-3678', 'phone number_342-4004', 'phone number_342-4122', 'phone number_342-5062', 'phone number_342-5243', 'phone number_342-5701', 'phone number_342-5854', 'phone number_342-5906', 'phone number_342-6316', 'phone number_342-6696', 'phone number_342-7514', 'phone number_342-7716', 'phone number_342-8002', 'phone number_342-8167', 'phone number_342-8320', 'phone number_342-8348', 'phone number_342-8702', 'phone number_342-9394', 'phone number_342-9480', 'phone number_343-1009', 'phone number_343-1323', 'phone number_343-1347', 'phone number_343-1458', 'phone number_343-1538', 'phone number_343-1965', 'phone number_343-2077', 'phone number_343-2095', 'phone number_343-2350', 'phone number_343-2392', 'phone number_343-2465', 'phone number_343-2592', 'phone number_343-2597', 'phone number_343-2605', 'phone number_343-2689', 'phone number_343-2741', 'phone number_343-3227', 'phone number_343-3296', 'phone number_343-3340', 'phone number_343-3356', 'phone number_343-3399', 'phone number_343-3846', 'phone number_343-3961', 'phone number_343-4147', 'phone number_343-4516', 'phone number_343-4696', 'phone number_343-4772', 'phone number_343-4806', 'phone number_343-5219', 'phone number_343-5347', 'phone number_343-5372', 'phone number_343-5679', 'phone number_343-5709', 'phone number_343-6314', 'phone number_343-6374', 'phone number_343-6643', 'phone number_343-6940', 'phone number_343-7019', 'phone number_343-7242', 'phone number_343-7734', 'phone number_343-9365', 'phone number_343-9645', 'phone number_343-9654', 'phone number_343-9658', 'phone number_343-9946', 'phone number_344-1136', 'phone number_344-1362', 'phone number_344-1970', 'phone number_344-2260', 'phone number_344-2416', 'phone number_344-3131', 'phone number_344-3145', 'phone number_344-3160', 'phone number_344-3388', 'phone number_344-3466', 'phone number_344-4022', 'phone number_344-4478', 'phone number_344-4691', 'phone number_344-4970', 'phone number_344-5117', 'phone number_344-5181', 'phone number_344-5206', 'phone number_344-5766', 'phone number_344-5967', 'phone number_344-5973', 'phone number_344-6258', 'phone number_344-6334', 'phone number_344-6404', 'phone number_344-6495', 'phone number_344-6847', 'phone number_344-6935', 'phone number_344-7197', 'phone number_344-7470', 'phone number_344-8498', 'phone number_344-9302', 'phone number_344-9347', 'phone number_344-9403', 'phone number_344-9620', 'phone number_344-9943', 'phone number_344-9966', 'phone number_345-1243', 'phone number_345-1419', 'phone number_345-1524', 'phone number_345-1994', 'phone number_345-1998', 'phone number_345-2108', 'phone number_345-2319', 'phone number_345-2401', 'phone number_345-2448', 'phone number_345-2476', 'phone number_345-2863', 'phone number_345-2931', 'phone number_345-3451', 'phone number_345-3614', 'phone number_345-3734', 'phone number_345-3787', 'phone number_345-3934', 'phone number_345-3947', 'phone number_345-4473', 'phone number_345-4551', 'phone number_345-4589', 'phone number_345-5089', 'phone number_345-5338', 'phone number_345-5639', 'phone number_345-5980', 'phone number_345-6043', 'phone number_345-6515', 'phone number_345-6961', 'phone number_345-7014', 'phone number_345-7117', 'phone number_345-7900', 'phone number_345-8237', 'phone number_345-8350', 'phone number_345-8397', 'phone number_345-8433', 'phone number_345-9018', 'phone number_345-9140', 'phone number_345-9153', 'phone number_345-9168', 'phone number_345-9598', 'phone number_345-9690', 'phone number_346-1095', 'phone number_346-1629', 'phone number_346-2020', 'phone number_346-2347', 'phone number_346-2359', 'phone number_346-2530', 'phone number_346-3445', 'phone number_346-4216', 'phone number_346-4360', 'phone number_346-4919', 'phone number_346-4984', 'phone number_346-5036', 'phone number_346-5053', 'phone number_346-5068', 'phone number_346-5287', 'phone number_346-5349', 'phone number_346-5611', 'phone number_346-5707', 'phone number_346-5992', 'phone number_346-6352', 'phone number_346-6941', 'phone number_346-7302', 'phone number_346-7656', 'phone number_346-7795', 'phone number_346-8112', 'phone number_346-8362', 'phone number_346-8368', 'phone number_346-8581', 'phone number_346-8863', 'phone number_346-9317', 'phone number_347-1263', 'phone number_347-1473', 'phone number_347-1640', 'phone number_347-1814', 'phone number_347-1870', 'phone number_347-1914', 'phone number_347-2016', 'phone number_347-2378', 'phone number_347-2951', 'phone number_347-3406', 'phone number_347-3821', 'phone number_347-3895', 'phone number_347-3958', 'phone number_347-4112', 'phone number_347-4626', 'phone number_347-4982', 'phone number_347-5063', 'phone number_347-5113', 'phone number_347-5354', 'phone number_347-5843', 'phone number_347-6164', 'phone number_347-6393', 'phone number_347-6717', 'phone number_347-6812', 'phone number_347-6994', 'phone number_347-7420', 'phone number_347-7675', 'phone number_347-7741', 'phone number_347-7773', 'phone number_347-7898', 'phone number_347-8205', 'phone number_347-8659', 'phone number_347-9421', 'phone number_347-9737', 'phone number_347-9738', 'phone number_347-9769', 'phone number_347-9968', 'phone number_347-9995', 'phone number_348-1163', 'phone number_348-1359', 'phone number_348-1528', 'phone number_348-1592', 'phone number_348-1706', 'phone number_348-2009', 'phone number_348-2150', 'phone number_348-2916', 'phone number_348-3338', 'phone number_348-3444', 'phone number_348-3581', 'phone number_348-3777', 'phone number_348-3830', 'phone number_348-4316', 'phone number_348-4660', 'phone number_348-4961', 'phone number_348-5038', 'phone number_348-5567', 'phone number_348-5569', 'phone number_348-5725', 'phone number_348-5728', 'phone number_348-5767', 'phone number_348-6008', 'phone number_348-6057', 'phone number_348-6659', 'phone number_348-6720', 'phone number_348-6853', 'phone number_348-7071', 'phone number_348-7193', 'phone number_348-7224', 'phone number_348-7409', 'phone number_348-7437', 'phone number_348-7448', 'phone number_348-7484', 'phone number_348-7556', 'phone number_348-8015', 'phone number_348-8022', 'phone number_348-8464', 'phone number_348-8679', 'phone number_348-8711', 'phone number_348-9145', 'phone number_348-9383', 'phone number_348-9828', 'phone number_348-9938', 'phone number_348-9945', 'phone number_349-1687', 'phone number_349-1726', 'phone number_349-1756', 'phone number_349-1943', 'phone number_349-2157', 'phone number_349-2654', 'phone number_349-2808', 'phone number_349-3005', 'phone number_349-3112', 'phone number_349-3732', 'phone number_349-3843', 'phone number_349-4070', 'phone number_349-4369', 'phone number_349-4396', 'phone number_349-4397', 'phone number_349-4703', 'phone number_349-4762', 'phone number_349-4979', 'phone number_349-5617', 'phone number_349-6464', 'phone number_349-6567', 'phone number_349-7138', 'phone number_349-7282', 'phone number_349-7291', 'phone number_349-7362', 'phone number_349-8391', 'phone number_349-9060', 'phone number_349-9566', 'phone number_350-1040', 'phone number_350-1126', 'phone number_350-1354', 'phone number_350-1422', 'phone number_350-1532', 'phone number_350-1639', 'phone number_350-2012', 'phone number_350-2075', 'phone number_350-2250', 'phone number_350-2340', 'phone number_350-2384', 'phone number_350-2565', 'phone number_350-2832', 'phone number_350-4297', 'phone number_350-4367', 'phone number_350-4820', 'phone number_350-5883', 'phone number_350-5993', 'phone number_350-6473', 'phone number_350-6639', 'phone number_350-6759', 'phone number_350-7114', 'phone number_350-7227', 'phone number_350-7273', 'phone number_350-7288', 'phone number_350-7306', 'phone number_350-7344', 'phone number_350-8680', 'phone number_350-8884', 'phone number_350-8921', 'phone number_350-9228', 'phone number_350-9313', 'phone number_350-9318', 'phone number_350-9720', 'phone number_350-9994', 'phone number_351-1007', 'phone number_351-1382', 'phone number_351-1389', 'phone number_351-1466', 'phone number_351-1894', 'phone number_351-2535', 'phone number_351-2587', 'phone number_351-2589', 'phone number_351-2773', 'phone number_351-2815', 'phone number_351-2928', 'phone number_351-3169', 'phone number_351-3316', 'phone number_351-4025', 'phone number_351-4226', 'phone number_351-4288', 'phone number_351-4616', 'phone number_351-5576', 'phone number_351-6366', 'phone number_351-6384', 'phone number_351-6552', 'phone number_351-6574', 'phone number_351-6585', 'phone number_351-7005', 'phone number_351-7016', 'phone number_351-7269', 'phone number_351-7309', 'phone number_351-7369', 'phone number_351-7807', 'phone number_351-8398', 'phone number_351-8894', 'phone number_351-8955', 'phone number_351-9037', 'phone number_351-9537', 'phone number_351-9604', 'phone number_352-1127', 'phone number_352-1237', 'phone number_352-1798', 'phone number_352-2175', 'phone number_352-2270', 'phone number_352-2998', 'phone number_352-3440', 'phone number_352-4182', 'phone number_352-4221', 'phone number_352-4401', 'phone number_352-4418', 'phone number_352-4534', 'phone number_352-4541', 'phone number_352-5000', 'phone number_352-5081', 'phone number_352-5118', 'phone number_352-5393', 'phone number_352-5466', 'phone number_352-5542', 'phone number_352-5663', 'phone number_352-5697', 'phone number_352-5750', 'phone number_352-5787', 'phone number_352-5815', 'phone number_352-6068', 'phone number_352-6084', 'phone number_352-6265', 'phone number_352-6282', 'phone number_352-6573', 'phone number_352-6732', 'phone number_352-6833', 'phone number_352-6976', 'phone number_352-7072', 'phone number_352-7234', 'phone number_352-7413', 'phone number_352-7752', 'phone number_352-7915', 'phone number_352-8202', 'phone number_352-8249', 'phone number_352-8305', 'phone number_352-8327', 'phone number_352-8508', 'phone number_352-9017', 'phone number_352-9050', 'phone number_352-9130', 'phone number_352-9836', 'phone number_352-9947', 'phone number_353-1352', 'phone number_353-1941', 'phone number_353-1954', 'phone number_353-2080', 'phone number_353-2391', 'phone number_353-2450', 'phone number_353-2557', 'phone number_353-2630', 'phone number_353-2763', 'phone number_353-3061', 'phone number_353-3203', 'phone number_353-3223', 'phone number_353-3285', 'phone number_353-3305', 'phone number_353-3351', 'phone number_353-3372', 'phone number_353-3492', 'phone number_353-3759', 'phone number_353-3994', 'phone number_353-4002', 'phone number_353-4296', 'phone number_353-4880', 'phone number_353-5257', 'phone number_353-5557', 'phone number_353-5714', 'phone number_353-6007', 'phone number_353-6038', 'phone number_353-6056', 'phone number_353-6218', 'phone number_353-6300', 'phone number_353-6482', 'phone number_353-6870', 'phone number_353-7096', 'phone number_353-7289', 'phone number_353-7292', 'phone number_353-7407', 'phone number_353-7461', 'phone number_353-7730', 'phone number_353-7822', 'phone number_353-8363', 'phone number_353-8849', 'phone number_353-8928', 'phone number_353-8970', 'phone number_353-9339', 'phone number_353-9998', 'phone number_354-1558', 'phone number_354-2189', 'phone number_354-2434', 'phone number_354-2762', 'phone number_354-2985', 'phone number_354-3040', 'phone number_354-3237', 'phone number_354-3436', 'phone number_354-3545', 'phone number_354-3783', 'phone number_354-4333', 'phone number_354-4352', 'phone number_354-4445', 'phone number_354-4448', 'phone number_354-4568', 'phone number_354-4577', 'phone number_354-4752', 'phone number_354-5058', 'phone number_354-5689', 'phone number_354-5764', 'phone number_354-6183', 'phone number_354-6810', 'phone number_354-6942', 'phone number_354-6960', 'phone number_354-7025', 'phone number_354-7077', 'phone number_354-7201', 'phone number_354-7314', 'phone number_354-7339', 'phone number_354-7397', 'phone number_354-7718', 'phone number_354-7820', 'phone number_354-8088', 'phone number_354-8191', 'phone number_354-8491', 'phone number_354-8914', 'phone number_354-9062', 'phone number_354-9068', 'phone number_354-9492', 'phone number_355-1019', 'phone number_355-1113', 'phone number_355-1735', 'phone number_355-2293', 'phone number_355-2464', 'phone number_355-2634', 'phone number_355-2840', 'phone number_355-2872', 'phone number_355-2909', 'phone number_355-3602', 'phone number_355-3620', 'phone number_355-3801', 'phone number_355-3814', 'phone number_355-4143', 'phone number_355-4842', 'phone number_355-4992', 'phone number_355-5009', 'phone number_355-5922', 'phone number_355-6291', 'phone number_355-6422', 'phone number_355-6531', 'phone number_355-6560', 'phone number_355-6826', 'phone number_355-6837', 'phone number_355-6930', 'phone number_355-7251', 'phone number_355-7293', 'phone number_355-7705', 'phone number_355-7895', 'phone number_355-8299', 'phone number_355-8887', 'phone number_355-9295', 'phone number_355-9324', 'phone number_355-9356', 'phone number_355-9360', 'phone number_355-9366', 'phone number_355-9475', 'phone number_355-9508', 'phone number_355-9541', 'phone number_355-9581', 'phone number_355-9993', 'phone number_356-1270', 'phone number_356-1358', 'phone number_356-1420', 'phone number_356-1567', 'phone number_356-1582', 'phone number_356-1654', 'phone number_356-1889', 'phone number_356-1952', 'phone number_356-2093', 'phone number_356-2302', 'phone number_356-2992', 'phone number_356-3333', 'phone number_356-3403', 'phone number_356-3448', 'phone number_356-3646', 'phone number_356-4001', 'phone number_356-4146', 'phone number_356-4558', 'phone number_356-4706', 'phone number_356-4832', 'phone number_356-5244', 'phone number_356-5475', 'phone number_356-5491', 'phone number_356-7208', 'phone number_356-7217', 'phone number_356-7239', 'phone number_356-7511', 'phone number_356-7580', 'phone number_356-7817', 'phone number_356-8449', 'phone number_356-8621', 'phone number_356-8982', 'phone number_356-9187', 'phone number_357-1085', 'phone number_357-1700', 'phone number_357-1909', 'phone number_357-1938', 'phone number_357-2294', 'phone number_357-2429', 'phone number_357-2679', 'phone number_357-2735', 'phone number_357-2748', 'phone number_357-3187', 'phone number_357-3577', 'phone number_357-3709', 'phone number_357-3817', 'phone number_357-4078', 'phone number_357-4265', 'phone number_357-4573', 'phone number_357-4936', 'phone number_357-5696', 'phone number_357-5784', 'phone number_357-5801', 'phone number_357-5995', 'phone number_357-6039', 'phone number_357-6348', 'phone number_357-7060', 'phone number_357-7064', 'phone number_357-7385', 'phone number_357-7875', 'phone number_357-7893', 'phone number_357-8515', 'phone number_357-9136', 'phone number_357-9832', 'phone number_358-1129', 'phone number_358-1329', 'phone number_358-1346', 'phone number_358-1778', 'phone number_358-1912', 'phone number_358-1921', 'phone number_358-1922', 'phone number_358-1958', 'phone number_358-2046', 'phone number_358-2490', 'phone number_358-2694', 'phone number_358-3114', 'phone number_358-3261', 'phone number_358-3604', 'phone number_358-3691', 'phone number_358-3692', 'phone number_358-4036', 'phone number_358-4412', 'phone number_358-4576', 'phone number_358-5274', 'phone number_358-5721', 'phone number_358-5826', 'phone number_358-5953', 'phone number_358-6672', 'phone number_358-6796', 'phone number_358-7165', 'phone number_358-7379', 'phone number_358-7914', 'phone number_358-8025', 'phone number_358-8729', 'phone number_358-9095', 'phone number_358-9146', 'phone number_358-9898', 'phone number_359-1231', 'phone number_359-1441', 'phone number_359-2197', 'phone number_359-2740', 'phone number_359-2915', 'phone number_359-3423', 'phone number_359-3618', 'phone number_359-3833', 'phone number_359-4081', 'phone number_359-4336', 'phone number_359-4587', 'phone number_359-5091', 'phone number_359-5160', 'phone number_359-5461', 'phone number_359-5718', 'phone number_359-5731', 'phone number_359-5890', 'phone number_359-5893', 'phone number_359-6163', 'phone number_359-6196', 'phone number_359-6232', 'phone number_359-6931', 'phone number_359-6995', 'phone number_359-7255', 'phone number_359-7426', 'phone number_359-7521', 'phone number_359-7562', 'phone number_359-7648', 'phone number_359-7694', 'phone number_359-7788', 'phone number_359-8466', 'phone number_359-9223', 'phone number_359-9369', 'phone number_359-9454', 'phone number_359-9794', 'phone number_359-9972', 'phone number_359-9992', 'phone number_360-1171', 'phone number_360-1320', 'phone number_360-1406', 'phone number_360-1596', 'phone number_360-1643', 'phone number_360-1745', 'phone number_360-1776', 'phone number_360-1852', 'phone number_360-2107', 'phone number_360-2329', 'phone number_360-2479', 'phone number_360-2690', 'phone number_360-3126', 'phone number_360-3324', 'phone number_360-3525', 'phone number_360-4320', 'phone number_360-5636', 'phone number_360-5779', 'phone number_360-5794', 'phone number_360-6024', 'phone number_360-6309', 'phone number_360-6416', 'phone number_360-6868', 'phone number_360-7076', 'phone number_360-7079', 'phone number_360-7246', 'phone number_360-7404', 'phone number_360-7477', 'phone number_360-7839', 'phone number_360-8135', 'phone number_360-8666', 'phone number_360-8919', 'phone number_360-9005', 'phone number_360-9038', 'phone number_360-9676', 'phone number_361-1315', 'phone number_361-1404', 'phone number_361-1581', 'phone number_361-1900', 'phone number_361-2170', 'phone number_361-2349', 'phone number_361-2924', 'phone number_361-3337', 'phone number_361-3779', 'phone number_361-4137', 'phone number_361-4910', 'phone number_361-5225', 'phone number_361-5277', 'phone number_361-5864', 'phone number_361-5936', 'phone number_361-6563', 'phone number_361-6814', 'phone number_361-7283', 'phone number_361-7702', 'phone number_361-7998', 'phone number_361-8113', 'phone number_361-8239', 'phone number_361-8288', 'phone number_361-8367', 'phone number_361-9195', 'phone number_361-9621', 'phone number_361-9839', 'phone number_361-9845', 'phone number_361-9923', 'phone number_362-1146', 'phone number_362-1407', 'phone number_362-1490', 'phone number_362-2067', 'phone number_362-2314', 'phone number_362-2353', 'phone number_362-2356', 'phone number_362-2776', 'phone number_362-2787', 'phone number_362-3107', 'phone number_362-3660', 'phone number_362-4159', 'phone number_362-4596', 'phone number_362-4685', 'phone number_362-5044', 'phone number_362-5111', 'phone number_362-5579', 'phone number_362-5889', 'phone number_362-5899', 'phone number_362-6528', 'phone number_362-7318', 'phone number_362-7581', 'phone number_362-7604', 'phone number_362-7835', 'phone number_362-7870', 'phone number_362-7951', 'phone number_362-8280', 'phone number_362-8331', 'phone number_362-8378', 'phone number_362-8763', 'phone number_362-8886', 'phone number_362-9391', 'phone number_362-9411', 'phone number_362-9748', 'phone number_362-9983', 'phone number_363-1069', 'phone number_363-1107', 'phone number_363-1123', 'phone number_363-1208', 'phone number_363-1366', 'phone number_363-1413', 'phone number_363-1560', 'phone number_363-1719', 'phone number_363-2193', 'phone number_363-2407', 'phone number_363-2602', 'phone number_363-3295', 'phone number_363-3469', 'phone number_363-3486', 'phone number_363-3515', 'phone number_363-3571', 'phone number_363-3763', 'phone number_363-3818', 'phone number_363-3911', 'phone number_363-4005', 'phone number_363-4779', 'phone number_363-4967', 'phone number_363-5450', 'phone number_363-5819', 'phone number_363-5853', 'phone number_363-5947', 'phone number_363-6695', 'phone number_363-6896', 'phone number_363-7802', 'phone number_363-7979', 'phone number_363-8033', 'phone number_363-8244', 'phone number_363-8424', 'phone number_363-8715', 'phone number_363-8755', 'phone number_363-8824', 'phone number_363-9663', 'phone number_363-9969', 'phone number_364-1134', 'phone number_364-1969', 'phone number_364-1995', 'phone number_364-2166', 'phone number_364-2439', 'phone number_364-2495', 'phone number_364-3286', 'phone number_364-3567', 'phone number_364-4927', 'phone number_364-5126', 'phone number_364-5362', 'phone number_364-5510', 'phone number_364-6381', 'phone number_364-6445', 'phone number_364-6801', 'phone number_364-7622', 'phone number_364-7644', 'phone number_364-7719', 'phone number_364-8128', 'phone number_364-8731', 'phone number_364-8774', 'phone number_364-8981', 'phone number_364-9040', 'phone number_364-9059', 'phone number_364-9240', 'phone number_364-9425', 'phone number_364-9567', 'phone number_364-9904', 'phone number_365-1664', 'phone number_365-1688', 'phone number_365-2008', 'phone number_365-2153', 'phone number_365-2192', 'phone number_365-2341', 'phone number_365-3493', 'phone number_365-3562', 'phone number_365-4387', 'phone number_365-4728', 'phone number_365-5039', 'phone number_365-5629', 'phone number_365-5682', 'phone number_365-5886', 'phone number_365-5979', 'phone number_365-6022', 'phone number_365-6205', 'phone number_365-6756', 'phone number_365-7774', 'phone number_365-7784', 'phone number_365-8114', 'phone number_365-8779', 'phone number_365-8831', 'phone number_365-9011', 'phone number_365-9079', 'phone number_365-9371', 'phone number_365-9696', 'phone number_366-1084', 'phone number_366-1613', 'phone number_366-2212', 'phone number_366-2273', 'phone number_366-2536', 'phone number_366-2541', 'phone number_366-2622', 'phone number_366-3358', 'phone number_366-3917', 'phone number_366-3944', 'phone number_366-4225', 'phone number_366-4287', 'phone number_366-4334', 'phone number_366-4426', 'phone number_366-4444', 'phone number_366-4467', 'phone number_366-5241', 'phone number_366-5640', 'phone number_366-5699', 'phone number_366-5780', 'phone number_366-5829', 'phone number_366-5918', 'phone number_366-6248', 'phone number_366-6345', 'phone number_366-6730', 'phone number_366-6751', 'phone number_366-6991', 'phone number_366-7069', 'phone number_366-7247', 'phone number_366-7331', 'phone number_366-7360', 'phone number_366-7560', 'phone number_366-7616', 'phone number_366-7912', 'phone number_366-8036', 'phone number_366-8382', 'phone number_366-8939', 'phone number_366-9015', 'phone number_366-9074', 'phone number_366-9211', 'phone number_366-9238', 'phone number_366-9430', 'phone number_366-9538', 'phone number_366-9781', 'phone number_367-1024', 'phone number_367-1062', 'phone number_367-1398', 'phone number_367-1424', 'phone number_367-1681', 'phone number_367-2056', 'phone number_367-2227', 'phone number_367-2436', 'phone number_367-2598', 'phone number_367-3220', 'phone number_367-3439', 'phone number_367-3648', 'phone number_367-3950', 'phone number_367-3971', 'phone number_367-4277', 'phone number_367-4853', 'phone number_367-5226', 'phone number_367-5923', 'phone number_367-6005', 'phone number_367-6136', 'phone number_367-7039', 'phone number_367-7906', 'phone number_367-8156', 'phone number_367-8168', 'phone number_367-8298', 'phone number_367-8692', 'phone number_367-8924', 'phone number_367-9127', 'phone number_367-9257', 'phone number_367-9259', 'phone number_367-9495', 'phone number_367-9765', 'phone number_368-1288', 'phone number_368-2074', 'phone number_368-2458', 'phone number_368-2583', 'phone number_368-2845', 'phone number_368-3078', 'phone number_368-3117', 'phone number_368-3287', 'phone number_368-3808', 'phone number_368-3931', 'phone number_368-5165', 'phone number_368-5437', 'phone number_368-5612', 'phone number_368-5628', 'phone number_368-5647', 'phone number_368-5758', 'phone number_368-6111', 'phone number_368-6174', 'phone number_368-6488', 'phone number_368-6892', 'phone number_368-7555', 'phone number_368-7706', 'phone number_368-8026', 'phone number_368-8283', 'phone number_368-8555', 'phone number_368-8600', 'phone number_368-8835', 'phone number_368-8964', 'phone number_368-8972', 'phone number_368-9007', 'phone number_368-9073', 'phone number_368-9507', 'phone number_368-9751', 'phone number_368-9860', 'phone number_369-1220', 'phone number_369-1904', 'phone number_369-1929', 'phone number_369-2214', 'phone number_369-2625', 'phone number_369-2743', 'phone number_369-2899', 'phone number_369-3214', 'phone number_369-3626', 'phone number_369-3756', 'phone number_369-4012', 'phone number_369-4377', 'phone number_369-4384', 'phone number_369-4962', 'phone number_369-5222', 'phone number_369-5449', 'phone number_369-5526', 'phone number_369-5810', 'phone number_369-5942', 'phone number_369-6012', 'phone number_369-6204', 'phone number_369-6308', 'phone number_369-6880', 'phone number_369-6890', 'phone number_369-7017', 'phone number_369-7049', 'phone number_369-7295', 'phone number_369-7903', 'phone number_369-8005', 'phone number_369-8024', 'phone number_369-8574', 'phone number_369-8576', 'phone number_369-8703', 'phone number_369-8871', 'phone number_369-9465', 'phone number_369-9772', 'phone number_370-1465', 'phone number_370-1525', 'phone number_370-2451', 'phone number_370-2688', 'phone number_370-2892', 'phone number_370-2957', 'phone number_370-3021', 'phone number_370-3032', 'phone number_370-3271', 'phone number_370-3359', 'phone number_370-3450', 'phone number_370-4139', 'phone number_370-4395', 'phone number_370-5001', 'phone number_370-5042', 'phone number_370-5361', 'phone number_370-5527', 'phone number_370-5626', 'phone number_370-7546', 'phone number_370-7550', 'phone number_370-7565', 'phone number_370-7574', 'phone number_370-8023', 'phone number_370-8262', 'phone number_370-8379', 'phone number_370-8463', 'phone number_370-8676', 'phone number_370-8786', 'phone number_370-9000', 'phone number_370-9116', 'phone number_370-9296', 'phone number_370-9533', 'phone number_370-9563', 'phone number_370-9592', 'phone number_370-9622', 'phone number_370-9755', 'phone number_371-1139', 'phone number_371-1187', 'phone number_371-1514', 'phone number_371-1727', 'phone number_371-2155', 'phone number_371-2316', 'phone number_371-2418', 'phone number_371-2500', 'phone number_371-3236', 'phone number_371-3498', 'phone number_371-4306', 'phone number_371-4633', 'phone number_371-4788', 'phone number_371-5556', 'phone number_371-5655', 'phone number_371-5811', 'phone number_371-5875', 'phone number_371-6284', 'phone number_371-6990', 'phone number_371-7191', 'phone number_371-7366', 'phone number_371-7917', 'phone number_371-8452', 'phone number_371-8598', 'phone number_371-9414', 'phone number_371-9457', 'phone number_371-9482', 'phone number_371-9602', 'phone number_372-1115', 'phone number_372-1493', 'phone number_372-1534', 'phone number_372-1824', 'phone number_372-2296', 'phone number_372-2990', 'phone number_372-3750', 'phone number_372-3987', 'phone number_372-4203', 'phone number_372-4722', 'phone number_372-4835', 'phone number_372-4868', 'phone number_372-5262', 'phone number_372-5384', 'phone number_372-6497', 'phone number_372-6623', 'phone number_372-6920', 'phone number_372-7326', 'phone number_372-7990', 'phone number_372-8048', 'phone number_372-8405', 'phone number_372-8883', 'phone number_372-8925', 'phone number_372-9091', 'phone number_372-9816', 'phone number_372-9852', 'phone number_372-9976', 'phone number_373-1028', 'phone number_373-1448', 'phone number_373-2053', 'phone number_373-2091', 'phone number_373-2339', 'phone number_373-2782', 'phone number_373-2903', 'phone number_373-3251', 'phone number_373-3538', 'phone number_373-3549', 'phone number_373-3731', 'phone number_373-3959', 'phone number_373-4264', 'phone number_373-4274', 'phone number_373-4483', 'phone number_373-4819', 'phone number_373-5196', 'phone number_373-5438', 'phone number_373-5670', 'phone number_373-5732', 'phone number_373-5928', 'phone number_373-6379', 'phone number_373-6681', 'phone number_373-6784', 'phone number_373-6922', 'phone number_373-7037', 'phone number_373-7308', 'phone number_373-7690', 'phone number_373-7713', 'phone number_373-7974', 'phone number_373-8483', 'phone number_373-8895', 'phone number_373-8900', 'phone number_373-8908', 'phone number_373-8920', 'phone number_373-9108', 'phone number_374-1213', 'phone number_374-1551', 'phone number_374-1684', 'phone number_374-1836', 'phone number_374-1981', 'phone number_374-2073', 'phone number_374-3534', 'phone number_374-4664', 'phone number_374-5224', 'phone number_374-5301', 'phone number_374-5353', 'phone number_374-5530', 'phone number_374-5965', 'phone number_374-6217', 'phone number_374-6525', 'phone number_374-6966', 'phone number_374-7285', 'phone number_374-7787', 'phone number_374-8042', 'phone number_374-8187', 'phone number_374-8329', 'phone number_374-8525', 'phone number_374-9107', 'phone number_374-9203', 'phone number_374-9531', 'phone number_374-9576', 'phone number_375-1476', 'phone number_375-1721', 'phone number_375-1746', 'phone number_375-2098', 'phone number_375-2165', 'phone number_375-2184', 'phone number_375-2522', 'phone number_375-2975', 'phone number_375-3003', 'phone number_375-3341', 'phone number_375-3586', 'phone number_375-3658', 'phone number_375-3668', 'phone number_375-3826', 'phone number_375-4107', 'phone number_375-4770', 'phone number_375-4900', 'phone number_375-5414', 'phone number_375-5439', 'phone number_375-5547', 'phone number_375-5562', 'phone number_375-6911', 'phone number_375-8013', 'phone number_375-8238', 'phone number_375-8304', 'phone number_375-8493', 'phone number_375-8505', 'phone number_375-8596', 'phone number_375-8761', 'phone number_375-8880', 'phone number_375-8934', 'phone number_375-9180', 'phone number_375-9671', 'phone number_375-9930', 'phone number_375-9999', 'phone number_376-1000', 'phone number_376-1641', 'phone number_376-1677', 'phone number_376-1713', 'phone number_376-2408', 'phone number_376-2550', 'phone number_376-2922', 'phone number_376-4035', 'phone number_376-4271', 'phone number_376-4284', 'phone number_376-4292', 'phone number_376-4300', 'phone number_376-4484', 'phone number_376-4519', 'phone number_376-4540', 'phone number_376-4665', 'phone number_376-4705', 'phone number_376-4856', 'phone number_376-4861', 'phone number_376-5201', 'phone number_376-5213', 'phone number_376-5375', 'phone number_376-5471', 'phone number_376-5908', 'phone number_376-7043', 'phone number_376-7145', 'phone number_376-7207', 'phone number_376-8573', 'phone number_376-9249', 'phone number_376-9513', 'phone number_376-9607', 'phone number_376-9716', 'phone number_376-9940', 'phone number_377-1164', 'phone number_377-1218', 'phone number_377-1273', 'phone number_377-1293', 'phone number_377-1479', 'phone number_377-1765', 'phone number_377-2235', 'phone number_377-2725', 'phone number_377-3139', 'phone number_377-3417', 'phone number_377-3876', 'phone number_377-4169', 'phone number_377-4518', 'phone number_377-4975', 'phone number_377-5043', 'phone number_377-5258', 'phone number_377-5417', 'phone number_377-5441', 'phone number_377-6635', 'phone number_377-7107', 'phone number_377-7177', 'phone number_377-7276', 'phone number_377-7399', 'phone number_377-7561', 'phone number_377-7843', 'phone number_377-8067', 'phone number_377-8266', 'phone number_377-8267', 'phone number_377-8309', 'phone number_377-8608', 'phone number_377-9092', 'phone number_377-9178', 'phone number_377-9473', 'phone number_377-9520', 'phone number_377-9829', 'phone number_377-9932', 'phone number_378-1144', 'phone number_378-1303', 'phone number_378-1884', 'phone number_378-1936', 'phone number_378-2397', 'phone number_378-2432', 'phone number_378-2940', 'phone number_378-3508', 'phone number_378-3625', 'phone number_378-3722', 'phone number_378-3879', 'phone number_378-4013', 'phone number_378-4145', 'phone number_378-4179', 'phone number_378-4294', 'phone number_378-4557', 'phone number_378-4617', 'phone number_378-5633', 'phone number_378-5692', 'phone number_378-6276', 'phone number_378-6772', 'phone number_378-6924', 'phone number_378-6986', 'phone number_378-7299', 'phone number_378-7418', 'phone number_378-7733', 'phone number_378-7872', 'phone number_378-8019', 'phone number_378-8029', 'phone number_378-8137', 'phone number_378-8342', 'phone number_378-8567', 'phone number_378-8572', 'phone number_378-9029', 'phone number_378-9090', 'phone number_378-9478', 'phone number_378-9506', 'phone number_378-9542', 'phone number_379-1336', 'phone number_379-1720', 'phone number_379-2503', 'phone number_379-2508', 'phone number_379-2514', 'phone number_379-2523', 'phone number_379-2991', 'phone number_379-3012', 'phone number_379-3037', 'phone number_379-3132', 'phone number_379-3953', 'phone number_379-4257', 'phone number_379-4372', 'phone number_379-4583', 'phone number_379-5211', 'phone number_379-5503', 'phone number_379-5592', 'phone number_379-5885', 'phone number_379-5933', 'phone number_379-6506', 'phone number_379-6652', 'phone number_379-6970', 'phone number_379-7009', 'phone number_379-7192', 'phone number_379-7215', 'phone number_379-7290', 'phone number_379-7779', 'phone number_379-8248', 'phone number_379-8526', 'phone number_379-8681', 'phone number_379-8805', 'phone number_379-9524', 'phone number_379-9821', 'phone number_379-9859', 'phone number_380-1096', 'phone number_380-2558', 'phone number_380-2600', 'phone number_380-2758', 'phone number_380-2929', 'phone number_380-3161', 'phone number_380-3186', 'phone number_380-3311', 'phone number_380-3329', 'phone number_380-3437', 'phone number_380-3561', 'phone number_380-3910', 'phone number_380-3974', 'phone number_380-4080', 'phone number_380-4374', 'phone number_380-5102', 'phone number_380-5246', 'phone number_380-5286', 'phone number_380-5667', 'phone number_380-5873', 'phone number_380-6074', 'phone number_380-6342', 'phone number_380-6413', 'phone number_380-6437', 'phone number_380-6571', 'phone number_380-6631', 'phone number_380-6722', 'phone number_380-7277', 'phone number_380-7321', 'phone number_380-7624', 'phone number_380-7742', 'phone number_380-7816', 'phone number_380-8727', 'phone number_380-9063', 'phone number_380-9409', 'phone number_380-9674', 'phone number_380-9849', 'phone number_380-9879', 'phone number_380-9990', 'phone number_381-1026', 'phone number_381-1328', 'phone number_381-2376', 'phone number_381-2413', 'phone number_381-2460', 'phone number_381-2498', 'phone number_381-2709', 'phone number_381-2726', 'phone number_381-2745', 'phone number_381-3735', 'phone number_381-4029', 'phone number_381-4076', 'phone number_381-4562', 'phone number_381-4565', 'phone number_381-4712', 'phone number_381-4756', 'phone number_381-5047', 'phone number_381-5273', 'phone number_381-5878', 'phone number_381-7003', 'phone number_381-7597', 'phone number_381-8422', 'phone number_381-8593', 'phone number_381-9049', 'phone number_381-9196', 'phone number_381-9234', 'phone number_381-9367', 'phone number_382-1104', 'phone number_382-1227', 'phone number_382-1399', 'phone number_382-2026', 'phone number_382-2182', 'phone number_382-2453', 'phone number_382-2879', 'phone number_382-3512', 'phone number_382-3966', 'phone number_382-4024', 'phone number_382-4084', 'phone number_382-4657', 'phone number_382-4872', 'phone number_382-4932', 'phone number_382-4943', 'phone number_382-4952', 'phone number_382-5401', 'phone number_382-5478', 'phone number_382-5743', 'phone number_382-6135', 'phone number_382-6153', 'phone number_382-6438', 'phone number_382-6827', 'phone number_382-7659', 'phone number_382-7993', 'phone number_382-7999', 'phone number_382-8079', 'phone number_382-8274', 'phone number_382-8518', 'phone number_382-9138', 'phone number_382-9297', 'phone number_382-9447', 'phone number_383-1121', 'phone number_383-1431', 'phone number_383-1509', 'phone number_383-1657', 'phone number_383-2017', 'phone number_383-2251', 'phone number_383-2537', 'phone number_383-2566', 'phone number_383-2901', 'phone number_383-3375', 'phone number_383-4061', 'phone number_383-4319', 'phone number_383-4322', 'phone number_383-4361', 'phone number_383-4641', 'phone number_383-4802', 'phone number_383-5109', 'phone number_383-5474', 'phone number_383-5976', 'phone number_383-6029', 'phone number_383-6095', 'phone number_383-6293', 'phone number_383-6356', 'phone number_383-6373', 'phone number_383-6489', 'phone number_383-6544', 'phone number_383-7689', 'phone number_383-8364', 'phone number_383-8695', 'phone number_383-8807', 'phone number_383-8848', 'phone number_383-8878', 'phone number_383-9255', 'phone number_383-9306', 'phone number_383-9355', 'phone number_383-9448', 'phone number_384-1135', 'phone number_384-1549', 'phone number_384-1621', 'phone number_384-1833', 'phone number_384-2219', 'phone number_384-2372', 'phone number_384-2632', 'phone number_384-2908', 'phone number_384-3101', 'phone number_384-3299', 'phone number_384-3389', 'phone number_384-3413', 'phone number_384-3902', 'phone number_384-3904', 'phone number_384-4385', 'phone number_384-4595', 'phone number_384-4938', 'phone number_384-5004', 'phone number_384-5027', 'phone number_384-5335', 'phone number_384-5343', 'phone number_384-5632', 'phone number_384-5907', 'phone number_384-6132', 'phone number_384-6264', 'phone number_384-6372', 'phone number_384-6654', 'phone number_384-7216', 'phone number_384-7236', 'phone number_384-7459', 'phone number_384-7724', 'phone number_384-7873', 'phone number_384-8629', 'phone number_384-8723', 'phone number_384-8890', 'phone number_384-9033', 'phone number_384-9243', 'phone number_384-9254', 'phone number_384-9682', 'phone number_385-1118', 'phone number_385-1214', 'phone number_385-1423', 'phone number_385-1464', 'phone number_385-1830', 'phone number_385-1985', 'phone number_385-2370', 'phone number_385-2488', 'phone number_385-2564', 'phone number_385-2683', 'phone number_385-2699', 'phone number_385-3111', 'phone number_385-3263', 'phone number_385-3540', 'phone number_385-4715', 'phone number_385-4766', 'phone number_385-5688', 'phone number_385-5722', 'phone number_385-6175', 'phone number_385-6778', 'phone number_385-6952', 'phone number_385-7082', 'phone number_385-7148', 'phone number_385-7157', 'phone number_385-7387', 'phone number_385-7688', 'phone number_385-7861', 'phone number_385-7922', 'phone number_385-8184', 'phone number_385-8240', 'phone number_385-8406', 'phone number_385-8730', 'phone number_385-8997', 'phone number_385-9657', 'phone number_385-9744', 'phone number_386-1131', 'phone number_386-1374', 'phone number_386-1418', 'phone number_386-1548', 'phone number_386-1631', 'phone number_386-2317', 'phone number_386-2759', 'phone number_386-2810', 'phone number_386-2923', 'phone number_386-2970', 'phone number_386-3596', 'phone number_386-3671', 'phone number_386-3717', 'phone number_386-3766', 'phone number_386-3796', 'phone number_386-3823', 'phone number_386-4170', 'phone number_386-4215', 'phone number_386-4581', 'phone number_386-5303', 'phone number_386-5684', 'phone number_386-6114', 'phone number_386-6306', 'phone number_386-6408', 'phone number_386-6411', 'phone number_386-6535', 'phone number_386-6580', 'phone number_386-7118', 'phone number_386-7281', 'phone number_386-7337', 'phone number_386-7456', 'phone number_386-7976', 'phone number_386-8118', 'phone number_386-8432', 'phone number_386-8536', 'phone number_386-8690', 'phone number_386-8943', 'phone number_386-8984', 'phone number_386-9141', 'phone number_386-9177', 'phone number_386-9711', 'phone number_386-9724', 'phone number_386-9774', 'phone number_386-9790', 'phone number_386-9981', 'phone number_387-1116', 'phone number_387-1343', 'phone number_387-1535', 'phone number_387-2014', 'phone number_387-2041', 'phone number_387-2604', 'phone number_387-2698', 'phone number_387-2799', 'phone number_387-2919', 'phone number_387-3332', 'phone number_387-3422', 'phone number_387-4064', 'phone number_387-4504', 'phone number_387-5411', 'phone number_387-5453', 'phone number_387-5533', 'phone number_387-5860', 'phone number_387-5891', 'phone number_387-6031', 'phone number_387-6065', 'phone number_387-6103', 'phone number_387-6440', 'phone number_387-6498', 'phone number_387-6716', 'phone number_387-6912', 'phone number_387-7371', 'phone number_387-7641', 'phone number_387-7757', 'phone number_387-8201', 'phone number_387-9137', 'phone number_387-9301', 'phone number_387-9855', 'phone number_388-1250', 'phone number_388-2240', 'phone number_388-4282', 'phone number_388-4331', 'phone number_388-4459', 'phone number_388-4571', 'phone number_388-4879', 'phone number_388-5850', 'phone number_388-6026', 'phone number_388-6223', 'phone number_388-6441', 'phone number_388-6479', 'phone number_388-6658', 'phone number_388-7355', 'phone number_388-7540', 'phone number_388-7701', 'phone number_388-8282', 'phone number_388-8583', 'phone number_388-8670', 'phone number_388-8722', 'phone number_388-8797', 'phone number_388-8891', 'phone number_388-8948', 'phone number_388-9285', 'phone number_388-9464', 'phone number_388-9568', 'phone number_388-9653', 'phone number_388-9944', 'phone number_389-1475', 'phone number_389-2114', 'phone number_389-2477', 'phone number_389-2540', 'phone number_389-2631', 'phone number_389-2747', 'phone number_389-3206', 'phone number_389-4083', 'phone number_389-4278', 'phone number_389-4602', 'phone number_389-4608', 'phone number_389-4695', 'phone number_389-4780', 'phone number_389-5649', 'phone number_389-5988', 'phone number_389-6037', 'phone number_389-6081', 'phone number_389-6082', 'phone number_389-6790', 'phone number_389-6955', 'phone number_389-7012', 'phone number_389-7073', 'phone number_389-7620', 'phone number_389-8096', 'phone number_389-8163', 'phone number_389-8417', 'phone number_389-8606', 'phone number_389-9120', 'phone number_389-9783', 'phone number_390-1552', 'phone number_390-1612', 'phone number_390-1760', 'phone number_390-2320', 'phone number_390-2390', 'phone number_390-2433', 'phone number_390-2755', 'phone number_390-2805', 'phone number_390-2891', 'phone number_390-3401', 'phone number_390-3565', 'phone number_390-3761', 'phone number_390-3873', 'phone number_390-4003', 'phone number_390-4152', 'phone number_390-4789', 'phone number_390-5055', 'phone number_390-5267', 'phone number_390-5316', 'phone number_390-5470', 'phone number_390-5686', 'phone number_390-6101', 'phone number_390-6388', 'phone number_390-6932', 'phone number_390-7274', 'phone number_390-7328', 'phone number_390-7370', 'phone number_390-7434', 'phone number_390-7863', 'phone number_390-7930', 'phone number_390-8760', 'phone number_390-8876', 'phone number_390-9359', 'phone number_390-9627', 'phone number_390-9698', 'phone number_390-9735', 'phone number_390-9811', 'phone number_390-9986', 'phone number_391-1348', 'phone number_391-1499', 'phone number_391-1737', 'phone number_391-1783', 'phone number_391-1793', 'phone number_391-2022', 'phone number_391-2159', 'phone number_391-2231', 'phone number_391-2334', 'phone number_391-2702', 'phone number_391-4358', 'phone number_391-4652', 'phone number_391-5442', 'phone number_391-5516', 'phone number_391-6260', 'phone number_391-6558', 'phone number_391-6607', 'phone number_391-6709', 'phone number_391-6773', 'phone number_391-7166', 'phone number_391-7528', 'phone number_391-7661', 'phone number_391-7937', 'phone number_391-7982', 'phone number_391-8027', 'phone number_391-8087', 'phone number_391-8124', 'phone number_391-8369', 'phone number_391-8554', 'phone number_391-8626', 'phone number_391-8677', 'phone number_392-1105', 'phone number_392-1376', 'phone number_392-1547', 'phone number_392-1616', 'phone number_392-1734', 'phone number_392-2268', 'phone number_392-2381', 'phone number_392-2459', 'phone number_392-2555', 'phone number_392-2708', 'phone number_392-2722', 'phone number_392-2733', 'phone number_392-2887', 'phone number_392-3315', 'phone number_392-3813', 'phone number_392-4680', 'phone number_392-4929', 'phone number_392-5090', 'phone number_392-5296', 'phone number_392-5512', 'phone number_392-5587', 'phone number_392-5605', 'phone number_392-5716', 'phone number_392-5941', 'phone number_392-6073', 'phone number_392-6239', 'phone number_392-6286', 'phone number_392-6331', 'phone number_392-6420', 'phone number_392-6647', 'phone number_392-6841', 'phone number_392-6856', 'phone number_392-8318', 'phone number_392-8905', 'phone number_392-9342', 'phone number_393-1891', 'phone number_393-2220', 'phone number_393-2373', 'phone number_393-2524', 'phone number_393-2812', 'phone number_393-3194', 'phone number_393-3274', 'phone number_393-3300', 'phone number_393-3507', 'phone number_393-3535', 'phone number_393-3635', 'phone number_393-3976', 'phone number_393-4027', 'phone number_393-4086', 'phone number_393-4528', 'phone number_393-4621', 'phone number_393-4823', 'phone number_393-4843', 'phone number_393-4949', 'phone number_393-5208', 'phone number_393-5284', 'phone number_393-5802', 'phone number_393-5897', 'phone number_393-6053', 'phone number_393-6376', 'phone number_393-6475', 'phone number_393-6733', 'phone number_393-6840', 'phone number_393-7322', 'phone number_393-7522', 'phone number_393-7826', 'phone number_393-7892', 'phone number_393-7984', 'phone number_393-8199', 'phone number_393-8736', 'phone number_393-8762', 'phone number_393-9424', 'phone number_393-9548', 'phone number_393-9619', 'phone number_393-9677', 'phone number_393-9918', 'phone number_393-9985', 'phone number_394-1211', 'phone number_394-2445', 'phone number_394-2553', 'phone number_394-2560', 'phone number_394-3023', 'phone number_394-3048', 'phone number_394-3051', 'phone number_394-3171', 'phone number_394-3312', 'phone number_394-3791', 'phone number_394-3806', 'phone number_394-4260', 'phone number_394-4512', 'phone number_394-4520', 'phone number_394-4548', 'phone number_394-5202', 'phone number_394-5489', 'phone number_394-5537', 'phone number_394-5753', 'phone number_394-6278', 'phone number_394-6382', 'phone number_394-6505', 'phone number_394-6577', 'phone number_394-6668', 'phone number_394-7447', 'phone number_394-7710', 'phone number_394-8006', 'phone number_394-8086', 'phone number_394-8256', 'phone number_394-8402', 'phone number_394-8504', 'phone number_394-8861', 'phone number_394-9121', 'phone number_394-9220', 'phone number_394-9825', 'phone number_394-9934', 'phone number_394-9942', 'phone number_394-9984', 'phone number_395-1229', 'phone number_395-1380', 'phone number_395-1693', 'phone number_395-1718', 'phone number_395-1898', 'phone number_395-1901', 'phone number_395-1962', 'phone number_395-2579', 'phone number_395-2626', 'phone number_395-2854', 'phone number_395-3026', 'phone number_395-3852', 'phone number_395-4509', 'phone number_395-4757', 'phone number_395-5015', 'phone number_395-5285', 'phone number_395-5783', 'phone number_395-6002', 'phone number_395-6030', 'phone number_395-6149', 'phone number_395-6195', 'phone number_395-6369', 'phone number_395-6758', 'phone number_395-6913', 'phone number_395-7435', 'phone number_395-7857', 'phone number_395-7923', 'phone number_395-8330', 'phone number_395-8595', 'phone number_395-9214', 'phone number_395-9215', 'phone number_395-9270', 'phone number_396-1106', 'phone number_396-1278', 'phone number_396-1648', 'phone number_396-1800', 'phone number_396-2187', 'phone number_396-2324', 'phone number_396-2335', 'phone number_396-2719', 'phone number_396-2867', 'phone number_396-2945', 'phone number_396-3068', 'phone number_396-4171', 'phone number_396-4234', 'phone number_396-4254', 'phone number_396-4311', 'phone number_396-4410', 'phone number_396-4460', 'phone number_396-4845', 'phone number_396-4869', 'phone number_396-5189', 'phone number_396-5561', 'phone number_396-5790', 'phone number_396-5800', 'phone number_396-6247', 'phone number_396-6390', 'phone number_396-6462', 'phone number_396-6775', 'phone number_396-7091', 'phone number_396-7687', 'phone number_396-8265', 'phone number_396-8400', 'phone number_396-8662', 'phone number_396-9279', 'phone number_396-9462', 'phone number_396-9656', 'phone number_397-1649', 'phone number_397-1659', 'phone number_397-1766', 'phone number_397-2870', 'phone number_397-3058', 'phone number_397-3746', 'phone number_397-3939', 'phone number_397-3943', 'phone number_397-4030', 'phone number_397-4304', 'phone number_397-4968', 'phone number_397-4976', 'phone number_397-5060', 'phone number_397-5381', 'phone number_397-5911', 'phone number_397-6064', 'phone number_397-6109', 'phone number_397-6255', 'phone number_397-6425', 'phone number_397-6542', 'phone number_397-6789', 'phone number_397-7125', 'phone number_397-7411', 'phone number_397-7453', 'phone number_397-7500', 'phone number_397-8011', 'phone number_397-8051', 'phone number_397-8162', 'phone number_397-8512', 'phone number_397-8772', 'phone number_397-9148', 'phone number_397-9184', 'phone number_397-9251', 'phone number_397-9333', 'phone number_397-9486', 'phone number_397-9928', 'phone number_397-9933', 'phone number_398-1294', 'phone number_398-1332', 'phone number_398-1759', 'phone number_398-1959', 'phone number_398-2138', 'phone number_398-2148', 'phone number_398-2628', 'phone number_398-3004', 'phone number_398-3176', 'phone number_398-3632', 'phone number_398-3834', 'phone number_398-4313', 'phone number_398-4431', 'phone number_398-4538', 'phone number_398-4567', 'phone number_398-4814', 'phone number_398-5006', 'phone number_398-5788', 'phone number_398-5851', 'phone number_398-5954', 'phone number_398-5970', 'phone number_398-6703', 'phone number_398-7414', 'phone number_398-7978', 'phone number_398-8122', 'phone number_398-8385', 'phone number_398-8578', 'phone number_398-8588', 'phone number_398-8745', 'phone number_398-8801', 'phone number_398-9408', 'phone number_398-9870', 'phone number_399-1021', 'phone number_399-1750', 'phone number_399-2151', 'phone number_399-2457', 'phone number_399-3083', 'phone number_399-3089', 'phone number_399-3164', 'phone number_399-3840', 'phone number_399-4094', 'phone number_399-4246', 'phone number_399-4413', 'phone number_399-4800', 'phone number_399-5291', 'phone number_399-5424', 'phone number_399-5426', 'phone number_399-5564', 'phone number_399-5763', 'phone number_399-6233', 'phone number_399-6259', 'phone number_399-6642', 'phone number_399-6786', 'phone number_399-6852', 'phone number_399-7029', 'phone number_399-7268', 'phone number_399-7865', 'phone number_399-8615', 'phone number_399-8845', 'phone number_399-8846', 'phone number_399-8859', 'phone number_399-9239', 'phone number_399-9802', 'phone number_400-1280', 'phone number_400-1367', 'phone number_400-1636', 'phone number_400-1899', 'phone number_400-2181', 'phone number_400-2203', 'phone number_400-2738', 'phone number_400-3147', 'phone number_400-3150', 'phone number_400-3197', 'phone number_400-3343', 'phone number_400-3446', 'phone number_400-3497', 'phone number_400-3637', 'phone number_400-3945', 'phone number_400-4020', 'phone number_400-4244', 'phone number_400-4344', 'phone number_400-4713', 'phone number_400-5389', 'phone number_400-5511', 'phone number_400-5751', 'phone number_400-5831', 'phone number_400-5984', 'phone number_400-6257', 'phone number_400-6454', 'phone number_400-6999', 'phone number_400-7002', 'phone number_400-7253', 'phone number_400-7280', 'phone number_400-7509', 'phone number_400-7809', 'phone number_400-7987', 'phone number_400-8069', 'phone number_400-8375', 'phone number_400-8538', 'phone number_400-8952', 'phone number_400-9510', 'phone number_400-9770', 'phone number_401-1252', 'phone number_401-1454', 'phone number_401-2468', 'phone number_401-2581', 'phone number_401-3077', 'phone number_401-3156', 'phone number_401-3170', 'phone number_401-3622', 'phone number_401-3685', 'phone number_401-3926', 'phone number_401-4007', 'phone number_401-4052', 'phone number_401-4650', 'phone number_401-4778', 'phone number_401-4844', 'phone number_401-5012', 'phone number_401-5169', 'phone number_401-5485', 'phone number_401-5586', 'phone number_401-5915', 'phone number_401-6162', 'phone number_401-6392', 'phone number_401-6671', 'phone number_401-6977', 'phone number_401-6982', 'phone number_401-7334', 'phone number_401-7335', 'phone number_401-7359', 'phone number_401-7575', 'phone number_401-7594', 'phone number_401-7654', 'phone number_401-7803', 'phone number_401-8377', 'phone number_401-8735', 'phone number_401-9420', 'phone number_401-9665', 'phone number_401-9909', 'phone number_402-1251', 'phone number_402-1381', 'phone number_402-1556', 'phone number_402-1607', 'phone number_402-1668', 'phone number_402-1725', 'phone number_402-1942', 'phone number_402-2072', 'phone number_402-2377', 'phone number_402-2482', 'phone number_402-2728', 'phone number_402-3370', 'phone number_402-3476', 'phone number_402-3599', 'phone number_402-3634', 'phone number_402-3886', 'phone number_402-3892', 'phone number_402-3908', 'phone number_402-4501', 'phone number_402-5014', 'phone number_402-5076', 'phone number_402-5155', 'phone number_402-5509', 'phone number_402-6591', 'phone number_402-6666', 'phone number_402-6744', 'phone number_402-7372', 'phone number_402-7626', 'phone number_402-7650', 'phone number_402-7746', 'phone number_402-8930', 'phone number_402-9173', 'phone number_402-9304', 'phone number_402-9558', 'phone number_402-9691', 'phone number_402-9704', 'phone number_402-9980', 'phone number_402-9982', 'phone number_403-1128', 'phone number_403-1742', 'phone number_403-1769', 'phone number_403-1953', 'phone number_403-2455', 'phone number_403-2673', 'phone number_403-3229', 'phone number_403-4200', 'phone number_403-4298', 'phone number_403-4442', 'phone number_403-4816', 'phone number_403-4917', 'phone number_403-5279', 'phone number_403-5552', 'phone number_403-5575', 'phone number_403-6187', 'phone number_403-6225', 'phone number_403-6237', 'phone number_403-6419', 'phone number_403-6565', 'phone number_403-6850', 'phone number_403-7627', 'phone number_403-7775', 'phone number_403-8904', 'phone number_403-8915', 'phone number_403-8916', 'phone number_403-9167', 'phone number_403-9199', 'phone number_403-9417', 'phone number_403-9468', 'phone number_403-9719', 'phone number_403-9733', 'phone number_403-9766', 'phone number_404-1002', 'phone number_404-1931', 'phone number_404-2871', 'phone number_404-2877', 'phone number_404-2942', 'phone number_404-3105', 'phone number_404-3106', 'phone number_404-3211', 'phone number_404-3238', 'phone number_404-3592', 'phone number_404-4421', 'phone number_404-4481', 'phone number_404-4486', 'phone number_404-4611', 'phone number_404-4809', 'phone number_404-5057', 'phone number_404-5283', 'phone number_404-5387', 'phone number_404-5427', 'phone number_404-5597', 'phone number_404-5840', 'phone number_404-6337', 'phone number_404-6357', 'phone number_404-7518', 'phone number_404-8765', 'phone number_404-9348', 'phone number_404-9504', 'phone number_404-9539', 'phone number_404-9680', 'phone number_404-9754', 'phone number_404-9775', 'phone number_404-9978', 'phone number_405-1108', 'phone number_405-1132', 'phone number_405-1370', 'phone number_405-1589', 'phone number_405-1780', 'phone number_405-1821', 'phone number_405-1842', 'phone number_405-2209', 'phone number_405-2276', 'phone number_405-2653', 'phone number_405-2831', 'phone number_405-2888', 'phone number_405-3097', 'phone number_405-3309', 'phone number_405-3335', 'phone number_405-3371', 'phone number_405-3533', 'phone number_405-3848', 'phone number_405-3916', 'phone number_405-4109', 'phone number_405-4303', 'phone number_405-4420', 'phone number_405-4606', 'phone number_405-4920', 'phone number_405-5083', 'phone number_405-5305', 'phone number_405-5403', 'phone number_405-5513', 'phone number_405-5681', 'phone number_405-6189', 'phone number_405-6298', 'phone number_405-6398', 'phone number_405-6559', 'phone number_405-6641', 'phone number_405-6943', 'phone number_405-7119', 'phone number_405-7146', 'phone number_405-7204', 'phone number_405-7467', 'phone number_405-7542', 'phone number_405-7676', 'phone number_405-7850', 'phone number_405-7904', 'phone number_405-8075', 'phone number_405-8370', 'phone number_405-8753', 'phone number_405-8867', 'phone number_405-9217', 'phone number_405-9233', 'phone number_405-9384', 'phone number_405-9496', 'phone number_405-9573', 'phone number_405-9864', 'phone number_406-1247', 'phone number_406-1349', 'phone number_406-1730', 'phone number_406-2032', 'phone number_406-2213', 'phone number_406-2242', 'phone number_406-2454', 'phone number_406-2678', 'phone number_406-2752', 'phone number_406-2866', 'phone number_406-3069', 'phone number_406-3890', 'phone number_406-4100', 'phone number_406-4158', 'phone number_406-4560', 'phone number_406-4588', 'phone number_406-4604', 'phone number_406-4710', 'phone number_406-4720', 'phone number_406-4768', 'phone number_406-4840', 'phone number_406-5003', 'phone number_406-5023', 'phone number_406-5059', 'phone number_406-5532', 'phone number_406-5584', 'phone number_406-5710', 'phone number_406-5870', 'phone number_406-6304', 'phone number_406-6400', 'phone number_406-6669', 'phone number_406-6708', 'phone number_406-7261', 'phone number_406-7643', 'phone number_406-7670', 'phone number_406-7726', 'phone number_406-7737', 'phone number_406-7844', 'phone number_406-8037', 'phone number_406-8324', 'phone number_406-8445', 'phone number_406-8465', 'phone number_406-8599', 'phone number_406-8665', 'phone number_406-8809', 'phone number_406-8995', 'phone number_406-9926', 'phone number_407-1896', 'phone number_407-2081', 'phone number_407-2248', 'phone number_407-2259', 'phone number_407-2292', 'phone number_407-2441', 'phone number_407-2718', 'phone number_407-2750', 'phone number_407-3121', 'phone number_407-3949', 'phone number_407-5056', 'phone number_407-5774', 'phone number_407-6391', 'phone number_407-6748', 'phone number_407-7035', 'phone number_407-7258', 'phone number_407-7464', 'phone number_407-7507', 'phone number_407-8012', 'phone number_407-8376', 'phone number_407-8575', 'phone number_407-9244', 'phone number_407-9290', 'phone number_407-9830', 'phone number_407-9841', 'phone number_408-1242', 'phone number_408-1331', 'phone number_408-1340', 'phone number_408-1486', 'phone number_408-1513', 'phone number_408-1913', 'phone number_408-2002', 'phone number_408-2089', 'phone number_408-2119', 'phone number_408-2621', 'phone number_408-2712', 'phone number_408-3262', 'phone number_408-3269', 'phone number_408-3384', 'phone number_408-3532', 'phone number_408-3606', 'phone number_408-3610', 'phone number_408-3977', 'phone number_408-4142', 'phone number_408-4174', 'phone number_408-4195', 'phone number_408-4323', 'phone number_408-4529', 'phone number_408-4530', 'phone number_408-4836', 'phone number_408-4865', 'phone number_408-4870', 'phone number_408-4911', 'phone number_408-5183', 'phone number_408-5322', 'phone number_408-5601', 'phone number_408-5916', 'phone number_408-6089', 'phone number_408-6266', 'phone number_408-6302', 'phone number_408-6305', 'phone number_408-6326', 'phone number_408-6496', 'phone number_408-6621', 'phone number_408-6676', 'phone number_408-6725', 'phone number_408-7015', 'phone number_408-8269', 'phone number_408-8650', 'phone number_408-8910', 'phone number_408-9463', 'phone number_408-9572', 'phone number_408-9779', 'phone number_409-1244', 'phone number_409-1856', 'phone number_409-2111', 'phone number_409-2412', 'phone number_409-2917', 'phone number_409-2983', 'phone number_409-3018', 'phone number_409-3353', 'phone number_409-3428', 'phone number_409-3520', 'phone number_409-3786', 'phone number_409-4447', 'phone number_409-4462', 'phone number_409-4671', 'phone number_409-4734', 'phone number_409-4791', 'phone number_409-5519', 'phone number_409-5749', 'phone number_409-5939', 'phone number_409-6588', 'phone number_409-6753', 'phone number_409-7034', 'phone number_409-7494', 'phone number_409-7523', 'phone number_409-8453', 'phone number_409-8743', 'phone number_409-8796', 'phone number_409-8802', 'phone number_409-8814', 'phone number_409-9494', 'phone number_409-9885', 'phone number_409-9911', 'phone number_410-1190', 'phone number_410-2015', 'phone number_410-2518', 'phone number_410-3159', 'phone number_410-3390', 'phone number_410-3503', 'phone number_410-3719', 'phone number_410-3725', 'phone number_410-3782', 'phone number_410-4023', 'phone number_410-4613', 'phone number_410-4739', 'phone number_410-4882', 'phone number_410-5192', 'phone number_410-5199', 'phone number_410-5236', 'phone number_410-5250', 'phone number_410-5370', 'phone number_410-5455', 'phone number_410-5713', 'phone number_410-5963', 'phone number_410-6791', 'phone number_410-7108', 'phone number_410-7383', 'phone number_410-7553', 'phone number_410-7611', 'phone number_410-7789', 'phone number_410-9477', 'phone number_410-9633', 'phone number_410-9961', 'phone number_411-1045', 'phone number_411-1261', 'phone number_411-1325', 'phone number_411-1530', 'phone number_411-1715', 'phone number_411-1810', 'phone number_411-2284', 'phone number_411-2958', 'phone number_411-2977', 'phone number_411-3095', 'phone number_411-3578', 'phone number_411-4232', 'phone number_411-4293', 'phone number_411-4582', 'phone number_411-4674', 'phone number_411-4714', 'phone number_411-4781', 'phone number_411-4940', 'phone number_411-5078', 'phone number_411-5334', 'phone number_411-5677', 'phone number_411-5740', 'phone number_411-5748', 'phone number_411-5859', 'phone number_411-5958', 'phone number_411-6211', 'phone number_411-6294', 'phone number_411-6501', 'phone number_411-6598', 'phone number_411-6663', 'phone number_411-6823', 'phone number_411-7110', 'phone number_411-7353', 'phone number_411-7390', 'phone number_411-7649', 'phone number_411-7778', 'phone number_411-8043', 'phone number_411-8140', 'phone number_411-8549', 'phone number_411-8956', 'phone number_411-9554', 'phone number_412-1076', 'phone number_412-1194', 'phone number_412-1470', 'phone number_412-1991', 'phone number_412-2520', 'phone number_412-2947', 'phone number_412-3404', 'phone number_412-3527', 'phone number_412-3726', 'phone number_412-3898', 'phone number_412-4185', 'phone number_412-4399', 'phone number_412-6019', 'phone number_412-6245', 'phone number_412-7020', 'phone number_412-7278', 'phone number_412-7606', 'phone number_412-7791', 'phone number_412-8769', 'phone number_412-8811', 'phone number_412-9190', 'phone number_412-9357', 'phone number_412-9997', 'phone number_413-1061', 'phone number_413-1269', 'phone number_413-1789', 'phone number_413-2194', 'phone number_413-2201', 'phone number_413-2238', 'phone number_413-2241', 'phone number_413-3177', 'phone number_413-3412', 'phone number_413-3990', 'phone number_413-4039', 'phone number_413-4040', 'phone number_413-4811', 'phone number_413-4831', 'phone number_413-4957', 'phone number_413-5190', 'phone number_413-5306', 'phone number_413-5310', 'phone number_413-6346', 'phone number_413-6380', 'phone number_413-6769', 'phone number_413-7170', 'phone number_413-7468', 'phone number_413-7655', 'phone number_413-7743', 'phone number_413-9055', 'phone number_413-9269', 'phone number_413-9328', 'phone number_414-1246', 'phone number_414-1496', 'phone number_414-1537', 'phone number_414-2606', 'phone number_414-2663', 'phone number_414-2695', 'phone number_414-2905', 'phone number_414-4037', 'phone number_414-4162', 'phone number_414-4276', 'phone number_414-4741', 'phone number_414-4803', 'phone number_414-5177', 'phone number_414-5422', 'phone number_414-5786', 'phone number_414-6219', 'phone number_414-6426', 'phone number_414-6541', 'phone number_414-6638', 'phone number_414-6739', 'phone number_414-7090', 'phone number_414-7410', 'phone number_414-7446', 'phone number_414-7942', 'phone number_414-8718', 'phone number_414-9027', 'phone number_414-9054', 'phone number_414-9119', 'phone number_414-9717', 'phone number_415-1141', 'phone number_415-1203', 'phone number_415-2176', 'phone number_415-2285', 'phone number_415-2393', 'phone number_415-2641', 'phone number_415-2865', 'phone number_415-2935', 'phone number_415-2949', 'phone number_415-3016', 'phone number_415-3120', 'phone number_415-3158', 'phone number_415-3537', 'phone number_415-3689', 'phone number_415-4051', 'phone number_415-4564', 'phone number_415-4609', 'phone number_415-4857', 'phone number_415-4875', 'phone number_415-5008', 'phone number_415-5132', 'phone number_415-5476', 'phone number_415-6110', 'phone number_415-6127', 'phone number_415-6145', 'phone number_415-6333', 'phone number_415-6347', 'phone number_415-6578', 'phone number_415-6601', 'phone number_415-8151', 'phone number_415-8164', 'phone number_415-8200', 'phone number_415-8448', 'phone number_415-8780', 'phone number_415-9553', 'phone number_415-9649', 'phone number_416-1536', 'phone number_416-1557', 'phone number_416-1676', 'phone number_416-1845', 'phone number_416-2778', 'phone number_416-2825', 'phone number_416-3649', 'phone number_416-3915', 'phone number_416-4351', 'phone number_416-4464', 'phone number_416-5261', 'phone number_416-5341', 'phone number_416-5623', 'phone number_416-5660', 'phone number_416-5662', 'phone number_416-5849', 'phone number_416-6594', 'phone number_416-6628', 'phone number_416-6886', 'phone number_416-7013', 'phone number_416-7307', 'phone number_416-7393', 'phone number_416-7452', 'phone number_416-7591', 'phone number_416-7679', 'phone number_416-7866', 'phone number_416-8394', 'phone number_416-8428', 'phone number_416-8543', 'phone number_416-8697', 'phone number_416-8701', 'phone number_416-8827', 'phone number_416-9021', 'phone number_416-9162', 'phone number_416-9522', 'phone number_416-9615', 'phone number_416-9723', 'phone number_417-1272', 'phone number_417-1360', 'phone number_417-1477', 'phone number_417-1488', 'phone number_417-2035', 'phone number_417-2054', 'phone number_417-2221', 'phone number_417-2265', 'phone number_417-2608', 'phone number_417-2716', 'phone number_417-2774', 'phone number_417-3046', 'phone number_417-3257', 'phone number_417-3676', 'phone number_417-3702', 'phone number_417-3999', 'phone number_417-4063', 'phone number_417-4266', 'phone number_417-4309', 'phone number_417-4404', 'phone number_417-4456', 'phone number_417-4810', 'phone number_417-4826', 'phone number_417-4885', 'phone number_417-5034', 'phone number_417-5067', 'phone number_417-5146', 'phone number_417-5320', 'phone number_417-5813', 'phone number_417-6044', 'phone number_417-6252', 'phone number_417-6330', 'phone number_417-6683', 'phone number_417-6774', 'phone number_417-6906', 'phone number_417-7722', 'phone number_417-7736', 'phone number_417-7888', 'phone number_417-7913', 'phone number_417-7973', 'phone number_417-8617', 'phone number_417-9128', 'phone number_417-9278', 'phone number_417-9455', 'phone number_417-9814', 'phone number_417-9844', 'phone number_418-1775', 'phone number_418-2402', 'phone number_418-3017', 'phone number_418-3096', 'phone number_418-3135', 'phone number_418-3181', 'phone number_418-3426', 'phone number_418-4365', 'phone number_418-4637', 'phone number_418-4658', 'phone number_418-5141', 'phone number_418-5300', 'phone number_418-5708', 'phone number_418-6412', 'phone number_418-6455', 'phone number_418-6512', 'phone number_418-6651', 'phone number_418-6737', 'phone number_418-6752', 'phone number_418-7055', 'phone number_418-7478', 'phone number_418-7846', 'phone number_418-8170', 'phone number_418-8257', 'phone number_418-8450', 'phone number_418-8568', 'phone number_418-8770', 'phone number_418-8850', 'phone number_418-8969', 'phone number_418-9036', 'phone number_418-9385', 'phone number_418-9502', 'phone number_419-1674', 'phone number_419-1714', 'phone number_419-1863', 'phone number_419-2369', 'phone number_419-2637', 'phone number_419-2767', 'phone number_419-3167', 'phone number_419-3196', 'phone number_419-3427', 'phone number_419-3612', 'phone number_419-3937', 'phone number_419-4310', 'phone number_419-4894', 'phone number_419-5171', 'phone number_419-5501', 'phone number_419-5505', 'phone number_419-6033', 'phone number_419-6133', 'phone number_419-6418', 'phone number_419-6564', 'phone number_419-7415', 'phone number_419-8987', 'phone number_419-9097', 'phone number_419-9104', 'phone number_419-9509', 'phone number_419-9688', 'phone number_419-9713', 'phone number_420-1259', 'phone number_420-1383', 'phone number_420-1782', 'phone number_420-2000', 'phone number_420-2796', 'phone number_420-3028', 'phone number_420-3042', 'phone number_420-3192', 'phone number_420-3346', 'phone number_420-3857', 'phone number_420-4089', 'phone number_420-5179', 'phone number_420-5645', 'phone number_420-5652', 'phone number_420-5990', 'phone number_420-6052', 'phone number_420-6121', 'phone number_420-6324', 'phone number_420-6414', 'phone number_420-6465', 'phone number_420-6780', 'phone number_420-7066', 'phone number_420-7301', 'phone number_420-7692', 'phone number_420-7823', 'phone number_420-8242', 'phone number_420-8308', 'phone number_420-8435', 'phone number_420-8897', 'phone number_420-8953', 'phone number_420-9009', 'phone number_420-9575', 'phone number_420-9838', 'phone number_420-9971', 'phone number_420-9973', 'phone number_421-1189', 'phone number_421-1326', 'phone number_421-1469', 'phone number_421-1484', 'phone number_421-2245', 'phone number_421-2659', 'phone number_421-2723', 'phone number_421-2955', 'phone number_421-3226', 'phone number_421-3528', 'phone number_421-5994', 'phone number_421-6268', 'phone number_421-6694', 'phone number_421-7205', 'phone number_421-7214', 'phone number_421-7270', 'phone number_421-8141', 'phone number_421-8535', 'phone number_421-8537', 'phone number_421-9034', 'phone number_421-9144', 'phone number_421-9401', 'phone number_421-9752', 'phone number_421-9846', 'phone number_422-1471', 'phone number_422-1799', 'phone number_422-2571', 'phone number_422-3052', 'phone number_422-3454', 'phone number_422-4241', 'phone number_422-4394', 'phone number_422-4956', 'phone number_422-5264', 'phone number_422-5350', 'phone number_422-5865', 'phone number_422-5874', 'phone number_422-6685', 'phone number_422-6690', 'phone number_422-7728', 'phone number_422-8268', 'phone number_422-8333', 'phone number_422-8344', 'phone number_422-9964', 'international plan_yes', 'voice mail plan_yes']\n"
     ]
    }
   ],
   "source": [
    "# Assuming df_encoded is the DataFrame after one-hot encoding\n",
    "\n",
    "# Separate numerical and binary/categorical columns\n",
    "numerical_cols = ['account length', 'number vmail messages', \n",
    "                  'total day minutes', 'total day calls', 'total day charge',\n",
    "                  'total eve minutes', 'total eve calls', 'total eve charge',\n",
    "                  'total night minutes', 'total night calls', 'total night charge',\n",
    "                  'total intl minutes', 'total intl calls', 'total intl charge',\n",
    "                  'customer service calls']\n",
    "\n",
    "# Binary/categorical columns = all other columns except numerical and target ('churn')\n",
    "binary_cols = [col for col in df_encoded.columns if col not in numerical_cols and col != 'churn']\n",
    "\n",
    "print(\"Numerical columns:\")\n",
    "print(numerical_cols)\n",
    "\n",
    "print(\"\\nBinary/Categorical columns:\")\n",
    "print(binary_cols)\n"
   ]
  },
  {
   "cell_type": "code",
   "execution_count": 33,
   "id": "5ec51c20",
   "metadata": {},
   "outputs": [
    {
     "name": "stdout",
     "output_type": "stream",
     "text": [
      "Summary Statistics for Numerical Columns:\n",
      "       account length  number vmail messages  total day minutes  \\\n",
      "count     3333.000000            3333.000000        3333.000000   \n",
      "mean       101.003300               8.098710         179.816157   \n",
      "std         39.644112              13.687436          54.152190   \n",
      "min          1.000000               0.000000          34.650000   \n",
      "25%         74.000000               0.000000         143.700000   \n",
      "50%        101.000000               0.000000         179.400000   \n",
      "75%        127.000000              20.000000         216.400000   \n",
      "max        206.500000              50.000000         325.450000   \n",
      "\n",
      "       total day calls  total day charge  total eve minutes  total eve calls  \\\n",
      "count      3333.000000       3333.000000        3333.000000      3333.000000   \n",
      "mean        100.473597         30.569292         201.009541       100.134113   \n",
      "std          19.863740          9.205865          50.401365        19.758567   \n",
      "min          46.500000          5.890000          63.550000        46.500000   \n",
      "25%          87.000000         24.430000         166.600000        87.000000   \n",
      "50%         101.000000         30.500000         201.400000       100.000000   \n",
      "75%         114.000000         36.790000         235.300000       114.000000   \n",
      "max         154.500000         55.330000         338.350000       154.500000   \n",
      "\n",
      "       total eve charge  total night minutes  total night calls  \\\n",
      "count       3333.000000          3333.000000        3333.000000   \n",
      "mean          17.086016           200.828143         100.098410   \n",
      "std            4.284135            50.118622          19.443717   \n",
      "min            5.400000            64.550000          48.000000   \n",
      "25%           14.160000           167.000000          87.000000   \n",
      "50%           17.120000           201.200000         100.000000   \n",
      "75%           20.000000           235.300000         113.000000   \n",
      "max           28.760000           337.750000         152.000000   \n",
      "\n",
      "       total night charge  total intl minutes  total intl calls  \\\n",
      "count         3333.000000         3333.000000       3333.000000   \n",
      "mean             9.037381           10.254575          4.424842   \n",
      "std              2.255212            2.721007          2.272343   \n",
      "min              2.915000            3.100000          0.000000   \n",
      "25%              7.520000            8.500000          3.000000   \n",
      "50%              9.050000           10.300000          4.000000   \n",
      "75%             10.590000           12.100000          6.000000   \n",
      "max             15.195000           17.500000         10.500000   \n",
      "\n",
      "       total intl charge  customer service calls  \n",
      "count        3333.000000             3333.000000  \n",
      "mean            2.769320                1.476298  \n",
      "std             0.734445                1.107194  \n",
      "min             0.845000                0.000000  \n",
      "25%             2.300000                1.000000  \n",
      "50%             2.780000                1.000000  \n",
      "75%             3.270000                2.000000  \n",
      "max             4.725000                3.500000  \n"
     ]
    }
   ],
   "source": [
    "# Summary Statistics for Numerical Columns\n",
    "print(\"Summary Statistics for Numerical Columns:\")\n",
    "numerical_summary = df_encoded[numerical_cols].describe()\n",
    "print(numerical_summary)"
   ]
  },
  {
   "cell_type": "code",
   "execution_count": 34,
   "id": "b5a74833",
   "metadata": {},
   "outputs": [
    {
     "name": "stdout",
     "output_type": "stream",
     "text": [
      "\n",
      "Summary Statistics for Binary Columns (Proportion of 1s):\n",
      "area code_415             0.496550\n",
      "voice mail plan_yes       0.276628\n",
      "area code_510             0.252025\n",
      "international plan_yes    0.096910\n",
      "state_WV                  0.031803\n",
      "                            ...   \n",
      "phone number_422-2571     0.000300\n",
      "phone number_422-3052     0.000300\n",
      "phone number_327-1319     0.000300\n",
      "phone number_327-3053     0.000300\n",
      "phone number_409-5749     0.000300\n",
      "Length: 3386, dtype: float64\n"
     ]
    }
   ],
   "source": [
    "#Summary Statistics for Binary (One-Hot Encoded) Columns\n",
    "print(\"\\nSummary Statistics for Binary Columns (Proportion of 1s):\")\n",
    "binary_summary = df_encoded[binary_cols].mean().sort_values(ascending=False)\n",
    "print(binary_summary)"
   ]
  },
  {
   "cell_type": "markdown",
   "id": "b695b793",
   "metadata": {},
   "source": [
    "#### Key Observations\n",
    "\n",
    "49.65% of customers in your dataset have area code 415.\n",
    "\n",
    "About 27.66% of users have a voicemail plan.\n",
    "\n",
    "About 9.69% of users are on an international plan.\n",
    "\n",
    "About 3.18% of customers are from West Virginia.\n",
    "\n",
    "phone number_422-2571 = 0.0003(Only one customer (0.03%) in the dataset has this exact phone number.)\n",
    "\n",
    "#### Insights:\n",
    "Skewed binary features:\n",
    "\n",
    "Features like international plan_yes are heavily imbalanced (fewer users have them), which can affect model learning—models may learn to treat them as rare \"signals.\"\n",
    "\n",
    "Sparse dummy columns:\n",
    "\n",
    "Many one-hot encoded phone numbers appear only once (~0.0003 = 1/3333). This is not useful for modeling—phone numbers are unique identifiers and should ideally be dropped.\n",
    "\n",
    "Multicollinearity:\n",
    "\n",
    "For area code and state, one-hot encoding has created many binary columns, potentially introducing redundant information. This can affect some algorithms like logistic regression."
   ]
  },
  {
   "cell_type": "code",
   "execution_count": 36,
   "id": "987e8876",
   "metadata": {},
   "outputs": [
    {
     "name": "stdout",
     "output_type": "stream",
     "text": [
      "\n",
      "Summary Statistics for Target Variable (churn):\n"
     ]
    },
    {
     "data": {
      "application/vnd.microsoft.datawrangler.viewer.v0+json": {
       "columns": [
        {
         "name": "churn",
         "rawType": "int64",
         "type": "integer"
        },
        {
         "name": "proportion",
         "rawType": "float64",
         "type": "float"
        }
       ],
       "ref": "c8d7ddf2-94da-4ec4-8d78-05527290a4d3",
       "rows": [
        [
         "0",
         "0.8550855085508551"
        ],
        [
         "1",
         "0.14491449144914492"
        ]
       ],
       "shape": {
        "columns": 1,
        "rows": 2
       }
      },
      "text/plain": [
       "churn\n",
       "0    0.855086\n",
       "1    0.144914\n",
       "Name: proportion, dtype: float64"
      ]
     },
     "execution_count": 36,
     "metadata": {},
     "output_type": "execute_result"
    }
   ],
   "source": [
    "# Summary Statistics for Target Variable (churn)\n",
    "print(\"\\nSummary Statistics for Target Variable (churn):\")\n",
    "df_encoded['churn'].value_counts(normalize=True)\n",
    "\n"
   ]
  },
  {
   "cell_type": "markdown",
   "id": "fa7a18c3",
   "metadata": {},
   "source": [
    "0 → Customer did not churn\n",
    "\n",
    "1 → Customer churned"
   ]
  },
  {
   "cell_type": "code",
   "execution_count": null,
   "id": "764945d6",
   "metadata": {},
   "outputs": [],
   "source": []
  }
 ],
 "metadata": {
  "kernelspec": {
   "display_name": "Python 3",
   "language": "python",
   "name": "python3"
  },
  "language_info": {
   "codemirror_mode": {
    "name": "ipython",
    "version": 3
   },
   "file_extension": ".py",
   "mimetype": "text/x-python",
   "name": "python",
   "nbconvert_exporter": "python",
   "pygments_lexer": "ipython3",
   "version": "3.13.3"
  }
 },
 "nbformat": 4,
 "nbformat_minor": 5
}
